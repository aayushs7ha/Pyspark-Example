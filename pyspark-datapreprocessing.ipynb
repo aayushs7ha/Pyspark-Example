{
 "cells": [
  {
   "cell_type": "code",
   "execution_count": 1,
   "id": "dbe43657",
   "metadata": {
    "_cell_guid": "b1076dfc-b9ad-4769-8c92-a6c4dae69d19",
    "_uuid": "8f2839f25d086af736a60e9eeb907d3b93b6e0e5",
    "execution": {
     "iopub.execute_input": "2023-05-11T20:10:56.127707Z",
     "iopub.status.busy": "2023-05-11T20:10:56.126518Z",
     "iopub.status.idle": "2023-05-11T20:10:56.171457Z",
     "shell.execute_reply": "2023-05-11T20:10:56.170675Z"
    },
    "papermill": {
     "duration": 0.059508,
     "end_time": "2023-05-11T20:10:56.175643",
     "exception": false,
     "start_time": "2023-05-11T20:10:56.116135",
     "status": "completed"
    },
    "tags": []
   },
   "outputs": [
    {
     "name": "stdout",
     "output_type": "stream",
     "text": [
      "/kaggle/input/sample/Contributing.md\n",
      "/kaggle/input/sample/errata.md\n",
      "/kaggle/input/sample/README.md\n",
      "/kaggle/input/sample/LICENSE.txt\n",
      "/kaggle/input/sample/9781484241301.jpg\n",
      "/kaggle/input/sample/.gitattributes\n",
      "/kaggle/input/sample/chapter_9_NLP/NLP_PySpark.ipynb\n",
      "/kaggle/input/sample/chapter_9_NLP/Sequence_Embeddings_PySpark.ipynb\n",
      "/kaggle/input/sample/chapter_9_NLP/Movie_reviews.csv\n",
      "/kaggle/input/sample/chapter_6_Random_Forests/affairs.csv\n",
      "/kaggle/input/sample/chapter_6_Random_Forests/Random_Forests.ipynb\n",
      "/kaggle/input/sample/chapter_5_Logistic_Regression/Logistic_Regression_Pyspark.ipynb\n",
      "/kaggle/input/sample/chapter_5_Logistic_Regression/Log_Reg_dataset.csv\n",
      "/kaggle/input/sample/chapter_2_Data_Processing/Data_processing_using_PySpark.ipynb\n",
      "/kaggle/input/sample/chapter_2_Data_Processing/sample_data.csv\n",
      "/kaggle/input/sample/chapter_4_Linear_Regression/Linear_regression_dataset.csv\n",
      "/kaggle/input/sample/chapter_4_Linear_Regression/Linear_Regression.ipynb\n",
      "/kaggle/input/sample/chapter_8_Recommender_System/Recommender_System_PySpark.ipynb\n",
      "/kaggle/input/sample/chapter_8_Recommender_System/movie_ratings_df.csv\n",
      "/kaggle/input/sample/chapter_7_Clustering/Clustering_PySpark.ipynb\n",
      "/kaggle/input/sample/chapter_7_Clustering/iris_dataset.csv\n"
     ]
    }
   ],
   "source": [
    "# This Python 3 environment comes with many helpful analytics libraries installed\n",
    "# It is defined by the kaggle/python Docker image: https://github.com/kaggle/docker-python\n",
    "# For example, here's several helpful packages to load\n",
    "\n",
    "import numpy as np # linear algebra\n",
    "import pandas as pd # data processing, CSV file I/O (e.g. pd.read_csv)\n",
    "\n",
    "# Input data files are available in the read-only \"../input/\" directory\n",
    "# For example, running this (by clicking run or pressing Shift+Enter) will list all files under the input directory\n",
    "\n",
    "import os\n",
    "for dirname, _, filenames in os.walk('/kaggle/input'):\n",
    "    for filename in filenames:\n",
    "        print(os.path.join(dirname, filename))\n",
    "\n",
    "# You can write up to 20GB to the current directory (/kaggle/working/) that gets preserved as output when you create a version using \"Save & Run All\" \n",
    "# You can also write temporary files to /kaggle/temp/, but they won't be saved outside of the current session"
   ]
  },
  {
   "cell_type": "code",
   "execution_count": 2,
   "id": "ba3442f6",
   "metadata": {
    "execution": {
     "iopub.execute_input": "2023-05-11T20:10:56.193487Z",
     "iopub.status.busy": "2023-05-11T20:10:56.193102Z",
     "iopub.status.idle": "2023-05-11T20:11:43.412350Z",
     "shell.execute_reply": "2023-05-11T20:11:43.410917Z"
    },
    "papermill": {
     "duration": 47.230704,
     "end_time": "2023-05-11T20:11:43.414873",
     "exception": false,
     "start_time": "2023-05-11T20:10:56.184169",
     "status": "completed"
    },
    "tags": []
   },
   "outputs": [
    {
     "name": "stdout",
     "output_type": "stream",
     "text": [
      "Collecting pyspark\r\n",
      "  Downloading pyspark-3.4.0.tar.gz (310.8 MB)\r\n",
      "\u001b[2K     \u001b[90m━━━━━━━━━━━━━━━━━━━━━━━━━━━━━━━━━━━━━━━\u001b[0m \u001b[32m310.8/310.8 MB\u001b[0m \u001b[31m3.8 MB/s\u001b[0m eta \u001b[36m0:00:00\u001b[0m\r\n",
      "\u001b[?25h  Preparing metadata (setup.py) ... \u001b[?25l-\b \b\\\b \bdone\r\n",
      "\u001b[?25hRequirement already satisfied: py4j==0.10.9.7 in /opt/conda/lib/python3.10/site-packages (from pyspark) (0.10.9.7)\r\n",
      "Building wheels for collected packages: pyspark\r\n",
      "  Building wheel for pyspark (setup.py) ... \u001b[?25l-\b \b\\\b \b|\b \b/\b \b-\b \b\\\b \b|\b \b/\b \b-\b \b\\\b \b|\b \b/\b \bdone\r\n",
      "\u001b[?25h  Created wheel for pyspark: filename=pyspark-3.4.0-py2.py3-none-any.whl size=311317146 sha256=3e2e5690c3dce1a1e3a12d3923e1a70f85639a9a80f2b7f1961edf9d38694cf6\r\n",
      "  Stored in directory: /root/.cache/pip/wheels/7b/1b/4b/3363a1d04368e7ff0d408e57ff57966fcdf00583774e761327\r\n",
      "Successfully built pyspark\r\n",
      "Installing collected packages: pyspark\r\n",
      "Successfully installed pyspark-3.4.0\r\n",
      "\u001b[33mWARNING: Running pip as the 'root' user can result in broken permissions and conflicting behaviour with the system package manager. It is recommended to use a virtual environment instead: https://pip.pypa.io/warnings/venv\u001b[0m\u001b[33m\r\n",
      "\u001b[0m"
     ]
    }
   ],
   "source": [
    "!pip install pyspark "
   ]
  },
  {
   "cell_type": "code",
   "execution_count": 3,
   "id": "be0aef62",
   "metadata": {
    "execution": {
     "iopub.execute_input": "2023-05-11T20:11:43.444964Z",
     "iopub.status.busy": "2023-05-11T20:11:43.444539Z",
     "iopub.status.idle": "2023-05-11T20:11:43.525900Z",
     "shell.execute_reply": "2023-05-11T20:11:43.524879Z"
    },
    "papermill": {
     "duration": 0.099209,
     "end_time": "2023-05-11T20:11:43.528233",
     "exception": false,
     "start_time": "2023-05-11T20:11:43.429024",
     "status": "completed"
    },
    "tags": []
   },
   "outputs": [],
   "source": [
    "# import spark session \n",
    "from pyspark.sql import SparkSession"
   ]
  },
  {
   "cell_type": "code",
   "execution_count": 4,
   "id": "82477de9",
   "metadata": {
    "execution": {
     "iopub.execute_input": "2023-05-11T20:11:43.557737Z",
     "iopub.status.busy": "2023-05-11T20:11:43.557330Z",
     "iopub.status.idle": "2023-05-11T20:11:48.848157Z",
     "shell.execute_reply": "2023-05-11T20:11:48.846794Z"
    },
    "papermill": {
     "duration": 5.309809,
     "end_time": "2023-05-11T20:11:48.852138",
     "exception": false,
     "start_time": "2023-05-11T20:11:43.542329",
     "status": "completed"
    },
    "tags": []
   },
   "outputs": [
    {
     "name": "stderr",
     "output_type": "stream",
     "text": [
      "Setting default log level to \"WARN\".\n",
      "To adjust logging level use sc.setLogLevel(newLevel). For SparkR, use setLogLevel(newLevel).\n",
      "23/05/11 20:11:46 WARN NativeCodeLoader: Unable to load native-hadoop library for your platform... using builtin-java classes where applicable\n"
     ]
    }
   ],
   "source": [
    "# Create Spark Object\n",
    "spark = SparkSession.builder.appName(\"Data_PreProcessing\").getOrCreate()"
   ]
  },
  {
   "cell_type": "code",
   "execution_count": 5,
   "id": "a9d88da7",
   "metadata": {
    "execution": {
     "iopub.execute_input": "2023-05-11T20:11:48.894097Z",
     "iopub.status.busy": "2023-05-11T20:11:48.893581Z",
     "iopub.status.idle": "2023-05-11T20:11:55.166908Z",
     "shell.execute_reply": "2023-05-11T20:11:55.165610Z"
    },
    "papermill": {
     "duration": 6.295726,
     "end_time": "2023-05-11T20:11:55.170598",
     "exception": false,
     "start_time": "2023-05-11T20:11:48.874872",
     "status": "completed"
    },
    "tags": []
   },
   "outputs": [],
   "source": [
    "df = spark.read.csv(\"/kaggle/input/sample/chapter_2_Data_Processing/sample_data.csv\", header=True, inferSchema=True)"
   ]
  },
  {
   "cell_type": "code",
   "execution_count": 6,
   "id": "eb72edb9",
   "metadata": {
    "execution": {
     "iopub.execute_input": "2023-05-11T20:11:55.208023Z",
     "iopub.status.busy": "2023-05-11T20:11:55.207626Z",
     "iopub.status.idle": "2023-05-11T20:11:55.244632Z",
     "shell.execute_reply": "2023-05-11T20:11:55.243884Z"
    },
    "papermill": {
     "duration": 0.05473,
     "end_time": "2023-05-11T20:11:55.246754",
     "exception": false,
     "start_time": "2023-05-11T20:11:55.192024",
     "status": "completed"
    },
    "tags": []
   },
   "outputs": [
    {
     "data": {
      "text/plain": [
       "['ratings', 'age', 'experience', 'family', 'mobile']"
      ]
     },
     "execution_count": 6,
     "metadata": {},
     "output_type": "execute_result"
    }
   ],
   "source": [
    "# Columns of Dataframe\n",
    "df.columns"
   ]
  },
  {
   "cell_type": "code",
   "execution_count": 7,
   "id": "463375c3",
   "metadata": {
    "execution": {
     "iopub.execute_input": "2023-05-11T20:11:55.277332Z",
     "iopub.status.busy": "2023-05-11T20:11:55.276381Z",
     "iopub.status.idle": "2023-05-11T20:11:55.282748Z",
     "shell.execute_reply": "2023-05-11T20:11:55.281988Z"
    },
    "papermill": {
     "duration": 0.024087,
     "end_time": "2023-05-11T20:11:55.285058",
     "exception": false,
     "start_time": "2023-05-11T20:11:55.260971",
     "status": "completed"
    },
    "tags": []
   },
   "outputs": [
    {
     "data": {
      "text/plain": [
       "5"
      ]
     },
     "execution_count": 7,
     "metadata": {},
     "output_type": "execute_result"
    }
   ],
   "source": [
    "# Check number of Columns\n",
    "len(df.columns)"
   ]
  },
  {
   "cell_type": "code",
   "execution_count": 8,
   "id": "a580ce56",
   "metadata": {
    "execution": {
     "iopub.execute_input": "2023-05-11T20:11:55.315758Z",
     "iopub.status.busy": "2023-05-11T20:11:55.315423Z",
     "iopub.status.idle": "2023-05-11T20:11:56.087036Z",
     "shell.execute_reply": "2023-05-11T20:11:56.086005Z"
    },
    "papermill": {
     "duration": 0.79015,
     "end_time": "2023-05-11T20:11:56.090168",
     "exception": false,
     "start_time": "2023-05-11T20:11:55.300018",
     "status": "completed"
    },
    "tags": []
   },
   "outputs": [
    {
     "data": {
      "text/plain": [
       "33"
      ]
     },
     "execution_count": 8,
     "metadata": {},
     "output_type": "execute_result"
    }
   ],
   "source": [
    "#Number of records in dataframe\n",
    "df.count()"
   ]
  },
  {
   "cell_type": "code",
   "execution_count": 9,
   "id": "1bd3f85f",
   "metadata": {
    "execution": {
     "iopub.execute_input": "2023-05-11T20:11:56.134945Z",
     "iopub.status.busy": "2023-05-11T20:11:56.134475Z",
     "iopub.status.idle": "2023-05-11T20:11:56.372773Z",
     "shell.execute_reply": "2023-05-11T20:11:56.371530Z"
    },
    "papermill": {
     "duration": 0.26485,
     "end_time": "2023-05-11T20:11:56.376299",
     "exception": false,
     "start_time": "2023-05-11T20:11:56.111449",
     "status": "completed"
    },
    "tags": []
   },
   "outputs": [
    {
     "name": "stdout",
     "output_type": "stream",
     "text": [
      "33 5\n"
     ]
    }
   ],
   "source": [
    "# Shape of dataset \n",
    "print(df.count(),len(df.columns))"
   ]
  },
  {
   "cell_type": "code",
   "execution_count": 10,
   "id": "027858c8",
   "metadata": {
    "execution": {
     "iopub.execute_input": "2023-05-11T20:11:56.407368Z",
     "iopub.status.busy": "2023-05-11T20:11:56.407022Z",
     "iopub.status.idle": "2023-05-11T20:11:56.413683Z",
     "shell.execute_reply": "2023-05-11T20:11:56.412900Z"
    },
    "papermill": {
     "duration": 0.02506,
     "end_time": "2023-05-11T20:11:56.416295",
     "exception": false,
     "start_time": "2023-05-11T20:11:56.391235",
     "status": "completed"
    },
    "tags": []
   },
   "outputs": [
    {
     "name": "stdout",
     "output_type": "stream",
     "text": [
      "root\n",
      " |-- ratings: integer (nullable = true)\n",
      " |-- age: integer (nullable = true)\n",
      " |-- experience: double (nullable = true)\n",
      " |-- family: integer (nullable = true)\n",
      " |-- mobile: string (nullable = true)\n",
      "\n"
     ]
    }
   ],
   "source": [
    "# printSchema\n",
    "df.printSchema()"
   ]
  },
  {
   "cell_type": "code",
   "execution_count": 11,
   "id": "ab08ba42",
   "metadata": {
    "execution": {
     "iopub.execute_input": "2023-05-11T20:11:56.464641Z",
     "iopub.status.busy": "2023-05-11T20:11:56.463717Z",
     "iopub.status.idle": "2023-05-11T20:11:56.790129Z",
     "shell.execute_reply": "2023-05-11T20:11:56.788931Z"
    },
    "papermill": {
     "duration": 0.35373,
     "end_time": "2023-05-11T20:11:56.793598",
     "exception": false,
     "start_time": "2023-05-11T20:11:56.439868",
     "status": "completed"
    },
    "tags": []
   },
   "outputs": [
    {
     "name": "stdout",
     "output_type": "stream",
     "text": [
      "+-------+---+----------+------+-------+\n",
      "|ratings|age|experience|family| mobile|\n",
      "+-------+---+----------+------+-------+\n",
      "|      3| 32|       9.0|     3|   Vivo|\n",
      "|      3| 27|      13.0|     3|  Apple|\n",
      "|      4| 22|       2.5|     0|Samsung|\n",
      "|      4| 37|      16.5|     4|  Apple|\n",
      "|      5| 27|       9.0|     1|     MI|\n",
      "+-------+---+----------+------+-------+\n",
      "only showing top 5 rows\n",
      "\n"
     ]
    }
   ],
   "source": [
    "# First few rows of dataframe\n",
    "df.show(5)"
   ]
  },
  {
   "cell_type": "code",
   "execution_count": 12,
   "id": "12d8f299",
   "metadata": {
    "execution": {
     "iopub.execute_input": "2023-05-11T20:11:56.841699Z",
     "iopub.status.busy": "2023-05-11T20:11:56.841124Z",
     "iopub.status.idle": "2023-05-11T20:11:57.092120Z",
     "shell.execute_reply": "2023-05-11T20:11:57.091056Z"
    },
    "papermill": {
     "duration": 0.27848,
     "end_time": "2023-05-11T20:11:57.095138",
     "exception": false,
     "start_time": "2023-05-11T20:11:56.816658",
     "status": "completed"
    },
    "tags": []
   },
   "outputs": [
    {
     "name": "stdout",
     "output_type": "stream",
     "text": [
      "+---+----------+-------+\n",
      "|age|experience| mobile|\n",
      "+---+----------+-------+\n",
      "| 32|       9.0|   Vivo|\n",
      "| 27|      13.0|  Apple|\n",
      "| 22|       2.5|Samsung|\n",
      "| 37|      16.5|  Apple|\n",
      "| 27|       9.0|     MI|\n",
      "+---+----------+-------+\n",
      "only showing top 5 rows\n",
      "\n"
     ]
    }
   ],
   "source": [
    "# Select 2 Columns\n",
    "df.select('age','experience','mobile').show(5)"
   ]
  },
  {
   "cell_type": "code",
   "execution_count": 13,
   "id": "7aae9f19",
   "metadata": {
    "execution": {
     "iopub.execute_input": "2023-05-11T20:11:57.141173Z",
     "iopub.status.busy": "2023-05-11T20:11:57.140398Z",
     "iopub.status.idle": "2023-05-11T20:11:58.829733Z",
     "shell.execute_reply": "2023-05-11T20:11:58.828535Z"
    },
    "papermill": {
     "duration": 1.714577,
     "end_time": "2023-05-11T20:11:58.831866",
     "exception": false,
     "start_time": "2023-05-11T20:11:57.117289",
     "status": "completed"
    },
    "tags": []
   },
   "outputs": [
    {
     "name": "stderr",
     "output_type": "stream",
     "text": [
      "23/05/11 20:11:57 WARN package: Truncated the string representation of a plan since it was too large. This behavior can be adjusted by setting 'spark.sql.debug.maxToStringFields'.\n",
      "[Stage 10:>                                                         (0 + 1) / 1]\r"
     ]
    },
    {
     "name": "stdout",
     "output_type": "stream",
     "text": [
      "+-------+------------------+------------------+------------------+------------------+------+\n",
      "|summary|           ratings|               age|        experience|            family|mobile|\n",
      "+-------+------------------+------------------+------------------+------------------+------+\n",
      "|  count|                33|                33|                33|                33|    33|\n",
      "|   mean|3.5757575757575757|30.484848484848484|10.303030303030303|1.8181818181818181|  null|\n",
      "| stddev|1.1188806636071336|  6.18527087180309| 6.770731351213326|1.8448330794164254|  null|\n",
      "|    min|                 1|                22|               2.5|                 0| Apple|\n",
      "|    max|                 5|                42|              23.0|                 5|  Vivo|\n",
      "+-------+------------------+------------------+------------------+------------------+------+\n",
      "\n"
     ]
    },
    {
     "name": "stderr",
     "output_type": "stream",
     "text": [
      "                                                                                \r"
     ]
    }
   ],
   "source": [
    "# Info about dataframe\n",
    "df.describe().show()"
   ]
  },
  {
   "cell_type": "code",
   "execution_count": 14,
   "id": "81f16b99",
   "metadata": {
    "execution": {
     "iopub.execute_input": "2023-05-11T20:11:58.879927Z",
     "iopub.status.busy": "2023-05-11T20:11:58.879382Z",
     "iopub.status.idle": "2023-05-11T20:11:59.071341Z",
     "shell.execute_reply": "2023-05-11T20:11:59.070230Z"
    },
    "papermill": {
     "duration": 0.218674,
     "end_time": "2023-05-11T20:11:59.074693",
     "exception": false,
     "start_time": "2023-05-11T20:11:58.856019",
     "status": "completed"
    },
    "tags": []
   },
   "outputs": [
    {
     "name": "stdout",
     "output_type": "stream",
     "text": [
      "+-------+---+----------+------+-------+-----------------+\n",
      "|ratings|age|experience|family|mobile |age_after_10Years|\n",
      "+-------+---+----------+------+-------+-----------------+\n",
      "|3      |32 |9.0       |3     |Vivo   |42               |\n",
      "|3      |27 |13.0      |3     |Apple  |37               |\n",
      "|4      |22 |2.5       |0     |Samsung|32               |\n",
      "|4      |37 |16.5      |4     |Apple  |47               |\n",
      "|5      |27 |9.0       |1     |MI     |37               |\n",
      "|4      |27 |9.0       |0     |Oppo   |37               |\n",
      "|5      |37 |23.0      |5     |Vivo   |47               |\n",
      "|5      |37 |23.0      |5     |Samsung|47               |\n",
      "|3      |22 |2.5       |0     |Apple  |32               |\n",
      "|3      |27 |6.0       |0     |MI     |37               |\n",
      "+-------+---+----------+------+-------+-----------------+\n",
      "only showing top 10 rows\n",
      "\n"
     ]
    }
   ],
   "source": [
    "from pyspark.sql.types import StringType, DoubleType, IntegerType\n",
    "df.withColumn(\"age_after_10Years\",(df.age+10)).show(10,False)"
   ]
  },
  {
   "cell_type": "code",
   "execution_count": 15,
   "id": "1c8768e8",
   "metadata": {
    "execution": {
     "iopub.execute_input": "2023-05-11T20:11:59.122729Z",
     "iopub.status.busy": "2023-05-11T20:11:59.122283Z",
     "iopub.status.idle": "2023-05-11T20:11:59.305235Z",
     "shell.execute_reply": "2023-05-11T20:11:59.303560Z"
    },
    "papermill": {
     "duration": 0.21121,
     "end_time": "2023-05-11T20:11:59.308663",
     "exception": false,
     "start_time": "2023-05-11T20:11:59.097453",
     "status": "completed"
    },
    "tags": []
   },
   "outputs": [
    {
     "name": "stdout",
     "output_type": "stream",
     "text": [
      "+-------+---+----------+------+-------+----------------+\n",
      "|ratings|age|experience|family|mobile |age_doubleFormat|\n",
      "+-------+---+----------+------+-------+----------------+\n",
      "|3      |32 |9.0       |3     |Vivo   |32.0            |\n",
      "|3      |27 |13.0      |3     |Apple  |27.0            |\n",
      "|4      |22 |2.5       |0     |Samsung|22.0            |\n",
      "|4      |37 |16.5      |4     |Apple  |37.0            |\n",
      "|5      |27 |9.0       |1     |MI     |27.0            |\n",
      "|4      |27 |9.0       |0     |Oppo   |27.0            |\n",
      "|5      |37 |23.0      |5     |Vivo   |37.0            |\n",
      "|5      |37 |23.0      |5     |Samsung|37.0            |\n",
      "|3      |22 |2.5       |0     |Apple  |22.0            |\n",
      "|3      |27 |6.0       |0     |MI     |27.0            |\n",
      "+-------+---+----------+------+-------+----------------+\n",
      "only showing top 10 rows\n",
      "\n"
     ]
    }
   ],
   "source": [
    "# cast as double (age)\n",
    "df.withColumn(\"age_doubleFormat\",(df.age.cast('double'))).show(10,False)"
   ]
  },
  {
   "cell_type": "code",
   "execution_count": 16,
   "id": "763b0ad2",
   "metadata": {
    "execution": {
     "iopub.execute_input": "2023-05-11T20:11:59.358961Z",
     "iopub.status.busy": "2023-05-11T20:11:59.358458Z",
     "iopub.status.idle": "2023-05-11T20:11:59.576442Z",
     "shell.execute_reply": "2023-05-11T20:11:59.574726Z"
    },
    "papermill": {
     "duration": 0.246997,
     "end_time": "2023-05-11T20:11:59.579936",
     "exception": false,
     "start_time": "2023-05-11T20:11:59.332939",
     "status": "completed"
    },
    "tags": []
   },
   "outputs": [
    {
     "name": "stdout",
     "output_type": "stream",
     "text": [
      "+-------+---+----------+------+------+\n",
      "|ratings|age|experience|family|mobile|\n",
      "+-------+---+----------+------+------+\n",
      "|      3| 32|       9.0|     3|  Vivo|\n",
      "|      5| 37|      23.0|     5|  Vivo|\n",
      "|      4| 37|       6.0|     0|  Vivo|\n",
      "|      5| 37|      13.0|     1|  Vivo|\n",
      "|      4| 37|       6.0|     0|  Vivo|\n",
      "+-------+---+----------+------+------+\n",
      "\n"
     ]
    }
   ],
   "source": [
    "#filter the records \n",
    "df.filter(df['mobile']=='Vivo').show()"
   ]
  },
  {
   "cell_type": "code",
   "execution_count": 17,
   "id": "ceb4b067",
   "metadata": {
    "execution": {
     "iopub.execute_input": "2023-05-11T20:11:59.629276Z",
     "iopub.status.busy": "2023-05-11T20:11:59.628743Z",
     "iopub.status.idle": "2023-05-11T20:11:59.833804Z",
     "shell.execute_reply": "2023-05-11T20:11:59.832711Z"
    },
    "papermill": {
     "duration": 0.23358,
     "end_time": "2023-05-11T20:11:59.837019",
     "exception": false,
     "start_time": "2023-05-11T20:11:59.603439",
     "status": "completed"
    },
    "tags": []
   },
   "outputs": [
    {
     "name": "stdout",
     "output_type": "stream",
     "text": [
      "+-------+---+----------+\n",
      "|ratings|age|experience|\n",
      "+-------+---+----------+\n",
      "|3      |27 |13.0      |\n",
      "|4      |37 |16.5      |\n",
      "|3      |22 |2.5       |\n",
      "|3      |37 |16.5      |\n",
      "|4      |27 |6.0       |\n",
      "+-------+---+----------+\n",
      "only showing top 5 rows\n",
      "\n"
     ]
    }
   ],
   "source": [
    "df.filter(df[\"mobile\"]==\"Apple\").select(\"ratings\",\"age\",\"experience\").show(5,False)"
   ]
  },
  {
   "cell_type": "code",
   "execution_count": 18,
   "id": "b74f781e",
   "metadata": {
    "execution": {
     "iopub.execute_input": "2023-05-11T20:11:59.889214Z",
     "iopub.status.busy": "2023-05-11T20:11:59.887915Z",
     "iopub.status.idle": "2023-05-11T20:12:00.069657Z",
     "shell.execute_reply": "2023-05-11T20:12:00.068499Z"
    },
    "papermill": {
     "duration": 0.20948,
     "end_time": "2023-05-11T20:12:00.071950",
     "exception": false,
     "start_time": "2023-05-11T20:11:59.862470",
     "status": "completed"
    },
    "tags": []
   },
   "outputs": [
    {
     "name": "stdout",
     "output_type": "stream",
     "text": [
      "+-------+---+----------+------+------+\n",
      "|ratings|age|experience|family|mobile|\n",
      "+-------+---+----------+------+------+\n",
      "|      3| 32|       9.0|     3|  Vivo|\n",
      "|      2| 32|      16.5|     2|  Oppo|\n",
      "+-------+---+----------+------+------+\n",
      "\n"
     ]
    }
   ],
   "source": [
    "df.filter(df[\"age\"] == 32).show()"
   ]
  },
  {
   "cell_type": "code",
   "execution_count": 19,
   "id": "8783c0b5",
   "metadata": {
    "execution": {
     "iopub.execute_input": "2023-05-11T20:12:00.104414Z",
     "iopub.status.busy": "2023-05-11T20:12:00.104028Z",
     "iopub.status.idle": "2023-05-11T20:12:00.264681Z",
     "shell.execute_reply": "2023-05-11T20:12:00.263535Z"
    },
    "papermill": {
     "duration": 0.180037,
     "end_time": "2023-05-11T20:12:00.267470",
     "exception": false,
     "start_time": "2023-05-11T20:12:00.087433",
     "status": "completed"
    },
    "tags": []
   },
   "outputs": [
    {
     "name": "stdout",
     "output_type": "stream",
     "text": [
      "+-------+---+----------+------+------+\n",
      "|ratings|age|experience|family|mobile|\n",
      "+-------+---+----------+------+------+\n",
      "|      4| 27|       9.0|     0|  Oppo|\n",
      "|      2| 27|       6.0|     2|  Oppo|\n",
      "|      2| 27|       6.0|     2|  Oppo|\n",
      "+-------+---+----------+------+------+\n",
      "\n"
     ]
    }
   ],
   "source": [
    "# Filter with multiple conditions\n",
    "df.filter(df['age']==27).filter(df['mobile']=='Oppo').show()"
   ]
  },
  {
   "cell_type": "code",
   "execution_count": 20,
   "id": "823c9fe1",
   "metadata": {
    "execution": {
     "iopub.execute_input": "2023-05-11T20:12:00.318719Z",
     "iopub.status.busy": "2023-05-11T20:12:00.318252Z",
     "iopub.status.idle": "2023-05-11T20:12:00.516384Z",
     "shell.execute_reply": "2023-05-11T20:12:00.515220Z"
    },
    "papermill": {
     "duration": 0.227532,
     "end_time": "2023-05-11T20:12:00.519684",
     "exception": false,
     "start_time": "2023-05-11T20:12:00.292152",
     "status": "completed"
    },
    "tags": []
   },
   "outputs": [
    {
     "name": "stdout",
     "output_type": "stream",
     "text": [
      "+-------+---+----------+------+------+\n",
      "|ratings|age|experience|family|mobile|\n",
      "+-------+---+----------+------+------+\n",
      "|      3| 27|      13.0|     3| Apple|\n",
      "|      4| 37|      16.5|     4| Apple|\n",
      "|      3| 37|      16.5|     5| Apple|\n",
      "|      3| 37|      16.5|     5| Apple|\n",
      "+-------+---+----------+------+------+\n",
      "\n"
     ]
    }
   ],
   "source": [
    "df.filter(df['mobile']=='Apple').filter(df['experience']>10.0).show()"
   ]
  },
  {
   "cell_type": "code",
   "execution_count": 21,
   "id": "affcec84",
   "metadata": {
    "execution": {
     "iopub.execute_input": "2023-05-11T20:12:00.556107Z",
     "iopub.status.busy": "2023-05-11T20:12:00.555709Z",
     "iopub.status.idle": "2023-05-11T20:12:00.930009Z",
     "shell.execute_reply": "2023-05-11T20:12:00.928773Z"
    },
    "papermill": {
     "duration": 0.394012,
     "end_time": "2023-05-11T20:12:00.932799",
     "exception": false,
     "start_time": "2023-05-11T20:12:00.538787",
     "status": "completed"
    },
    "tags": []
   },
   "outputs": [
    {
     "name": "stdout",
     "output_type": "stream",
     "text": [
      "+-------+\n",
      "| mobile|\n",
      "+-------+\n",
      "|     MI|\n",
      "|   Oppo|\n",
      "|Samsung|\n",
      "|   Vivo|\n",
      "|  Apple|\n",
      "+-------+\n",
      "\n"
     ]
    }
   ],
   "source": [
    "# Select Distinct mobile \n",
    "df.select(\"mobile\").distinct().show()"
   ]
  },
  {
   "cell_type": "code",
   "execution_count": 22,
   "id": "64fc0285",
   "metadata": {
    "execution": {
     "iopub.execute_input": "2023-05-11T20:12:00.966241Z",
     "iopub.status.busy": "2023-05-11T20:12:00.965876Z",
     "iopub.status.idle": "2023-05-11T20:12:01.325261Z",
     "shell.execute_reply": "2023-05-11T20:12:01.324189Z"
    },
    "papermill": {
     "duration": 0.378989,
     "end_time": "2023-05-11T20:12:01.328116",
     "exception": false,
     "start_time": "2023-05-11T20:12:00.949127",
     "status": "completed"
    },
    "tags": []
   },
   "outputs": [
    {
     "data": {
      "text/plain": [
       "5"
      ]
     },
     "execution_count": 22,
     "metadata": {},
     "output_type": "execute_result"
    }
   ],
   "source": [
    "# Count distinct mobile\n",
    "df.select(\"mobile\").distinct().count()"
   ]
  },
  {
   "cell_type": "markdown",
   "id": "2a9c1787",
   "metadata": {
    "papermill": {
     "duration": 0.023831,
     "end_time": "2023-05-11T20:12:01.376272",
     "exception": false,
     "start_time": "2023-05-11T20:12:01.352441",
     "status": "completed"
    },
    "tags": []
   },
   "source": [
    "# **GroupBy**"
   ]
  },
  {
   "cell_type": "code",
   "execution_count": 23,
   "id": "28042425",
   "metadata": {
    "execution": {
     "iopub.execute_input": "2023-05-11T20:12:01.423059Z",
     "iopub.status.busy": "2023-05-11T20:12:01.420415Z",
     "iopub.status.idle": "2023-05-11T20:12:01.873496Z",
     "shell.execute_reply": "2023-05-11T20:12:01.872423Z"
    },
    "papermill": {
     "duration": 0.477478,
     "end_time": "2023-05-11T20:12:01.876653",
     "exception": false,
     "start_time": "2023-05-11T20:12:01.399175",
     "status": "completed"
    },
    "tags": []
   },
   "outputs": [
    {
     "name": "stdout",
     "output_type": "stream",
     "text": [
      "+---+-----+\n",
      "|age|count|\n",
      "+---+-----+\n",
      "|27 |14   |\n",
      "|37 |10   |\n",
      "|22 |5    |\n",
      "|32 |2    |\n",
      "|42 |2    |\n",
      "+---+-----+\n",
      "\n"
     ]
    }
   ],
   "source": [
    "df.groupBy(\"age\").count().orderBy('count',ascending=False).show(5,False)"
   ]
  },
  {
   "cell_type": "code",
   "execution_count": 24,
   "id": "c8c7b90e",
   "metadata": {
    "execution": {
     "iopub.execute_input": "2023-05-11T20:12:01.925924Z",
     "iopub.status.busy": "2023-05-11T20:12:01.925379Z",
     "iopub.status.idle": "2023-05-11T20:12:02.206246Z",
     "shell.execute_reply": "2023-05-11T20:12:02.205143Z"
    },
    "papermill": {
     "duration": 0.308835,
     "end_time": "2023-05-11T20:12:02.209602",
     "exception": false,
     "start_time": "2023-05-11T20:12:01.900767",
     "status": "completed"
    },
    "tags": []
   },
   "outputs": [
    {
     "name": "stdout",
     "output_type": "stream",
     "text": [
      "+-------+-----+\n",
      "| mobile|count|\n",
      "+-------+-----+\n",
      "|     MI|    8|\n",
      "|   Oppo|    7|\n",
      "|  Apple|    7|\n",
      "|Samsung|    6|\n",
      "|   Vivo|    5|\n",
      "+-------+-----+\n",
      "\n"
     ]
    }
   ],
   "source": [
    "df.groupBy(\"mobile\").count().orderBy(\"count\",ascending=False).show()"
   ]
  },
  {
   "cell_type": "code",
   "execution_count": 25,
   "id": "3f37d5ee",
   "metadata": {
    "execution": {
     "iopub.execute_input": "2023-05-11T20:12:02.261233Z",
     "iopub.status.busy": "2023-05-11T20:12:02.260746Z",
     "iopub.status.idle": "2023-05-11T20:12:02.621456Z",
     "shell.execute_reply": "2023-05-11T20:12:02.620364Z"
    },
    "papermill": {
     "duration": 0.390162,
     "end_time": "2023-05-11T20:12:02.624485",
     "exception": false,
     "start_time": "2023-05-11T20:12:02.234323",
     "status": "completed"
    },
    "tags": []
   },
   "outputs": [
    {
     "name": "stdout",
     "output_type": "stream",
     "text": [
      "+-------+------------------+------------------+------------------+------------------+\n",
      "| mobile|      avg(ratings)|          avg(age)|   avg(experience)|       avg(family)|\n",
      "+-------+------------------+------------------+------------------+------------------+\n",
      "|     MI|               3.5|            30.125|           10.1875|             1.375|\n",
      "|   Oppo| 2.857142857142857|28.428571428571427|10.357142857142858|1.4285714285714286|\n",
      "|Samsung| 4.166666666666667|28.666666666666668| 8.666666666666666|1.8333333333333333|\n",
      "|   Vivo|               4.2|              36.0|              11.4|               1.8|\n",
      "|  Apple|3.4285714285714284|30.571428571428573|              11.0|2.7142857142857144|\n",
      "+-------+------------------+------------------+------------------+------------------+\n",
      "\n"
     ]
    }
   ],
   "source": [
    "df.groupBy(\"mobile\").mean().show()"
   ]
  },
  {
   "cell_type": "code",
   "execution_count": 26,
   "id": "ebb186d1",
   "metadata": {
    "execution": {
     "iopub.execute_input": "2023-05-11T20:12:02.673889Z",
     "iopub.status.busy": "2023-05-11T20:12:02.673427Z",
     "iopub.status.idle": "2023-05-11T20:12:02.986763Z",
     "shell.execute_reply": "2023-05-11T20:12:02.985650Z"
    },
    "papermill": {
     "duration": 0.341571,
     "end_time": "2023-05-11T20:12:02.989786",
     "exception": false,
     "start_time": "2023-05-11T20:12:02.648215",
     "status": "completed"
    },
    "tags": []
   },
   "outputs": [
    {
     "name": "stdout",
     "output_type": "stream",
     "text": [
      "+-------+------------+--------+---------------+-----------+\n",
      "| mobile|sum(ratings)|sum(age)|sum(experience)|sum(family)|\n",
      "+-------+------------+--------+---------------+-----------+\n",
      "|     MI|          28|     241|           81.5|         11|\n",
      "|   Oppo|          20|     199|           72.5|         10|\n",
      "|Samsung|          25|     172|           52.0|         11|\n",
      "|   Vivo|          21|     180|           57.0|          9|\n",
      "|  Apple|          24|     214|           77.0|         19|\n",
      "+-------+------------+--------+---------------+-----------+\n",
      "\n"
     ]
    }
   ],
   "source": [
    "df.groupBy(\"mobile\").sum().show()"
   ]
  },
  {
   "cell_type": "code",
   "execution_count": 27,
   "id": "20a4ff59",
   "metadata": {
    "execution": {
     "iopub.execute_input": "2023-05-11T20:12:03.040839Z",
     "iopub.status.busy": "2023-05-11T20:12:03.040347Z",
     "iopub.status.idle": "2023-05-11T20:12:03.360864Z",
     "shell.execute_reply": "2023-05-11T20:12:03.359799Z"
    },
    "papermill": {
     "duration": 0.349276,
     "end_time": "2023-05-11T20:12:03.363541",
     "exception": false,
     "start_time": "2023-05-11T20:12:03.014265",
     "status": "completed"
    },
    "tags": []
   },
   "outputs": [
    {
     "name": "stdout",
     "output_type": "stream",
     "text": [
      "+-------+------------+--------+---------------+-----------+\n",
      "| mobile|max(ratings)|max(age)|max(experience)|max(family)|\n",
      "+-------+------------+--------+---------------+-----------+\n",
      "|     MI|           5|      42|           23.0|          5|\n",
      "|   Oppo|           4|      42|           23.0|          2|\n",
      "|Samsung|           5|      37|           23.0|          5|\n",
      "|   Vivo|           5|      37|           23.0|          5|\n",
      "|  Apple|           4|      37|           16.5|          5|\n",
      "+-------+------------+--------+---------------+-----------+\n",
      "\n"
     ]
    }
   ],
   "source": [
    "df.groupBy(\"mobile\").max().show()"
   ]
  },
  {
   "cell_type": "code",
   "execution_count": 28,
   "id": "3b2b01fb",
   "metadata": {
    "execution": {
     "iopub.execute_input": "2023-05-11T20:12:03.397110Z",
     "iopub.status.busy": "2023-05-11T20:12:03.396726Z",
     "iopub.status.idle": "2023-05-11T20:12:03.662019Z",
     "shell.execute_reply": "2023-05-11T20:12:03.660606Z"
    },
    "papermill": {
     "duration": 0.28604,
     "end_time": "2023-05-11T20:12:03.665671",
     "exception": false,
     "start_time": "2023-05-11T20:12:03.379631",
     "status": "completed"
    },
    "tags": []
   },
   "outputs": [
    {
     "name": "stdout",
     "output_type": "stream",
     "text": [
      "+-------+------------+--------+---------------+-----------+\n",
      "| mobile|min(ratings)|min(age)|min(experience)|min(family)|\n",
      "+-------+------------+--------+---------------+-----------+\n",
      "|     MI|           1|      27|            2.5|          0|\n",
      "|   Oppo|           2|      22|            6.0|          0|\n",
      "|Samsung|           2|      22|            2.5|          0|\n",
      "|   Vivo|           3|      32|            6.0|          0|\n",
      "|  Apple|           3|      22|            2.5|          0|\n",
      "+-------+------------+--------+---------------+-----------+\n",
      "\n"
     ]
    }
   ],
   "source": [
    "df.groupBy(\"mobile\").min().show()"
   ]
  },
  {
   "cell_type": "markdown",
   "id": "d59ebe44",
   "metadata": {
    "papermill": {
     "duration": 0.024171,
     "end_time": "2023-05-11T20:12:03.714564",
     "exception": false,
     "start_time": "2023-05-11T20:12:03.690393",
     "status": "completed"
    },
    "tags": []
   },
   "source": [
    "# Aggregation"
   ]
  },
  {
   "cell_type": "code",
   "execution_count": 29,
   "id": "5d5b117a",
   "metadata": {
    "execution": {
     "iopub.execute_input": "2023-05-11T20:12:03.761429Z",
     "iopub.status.busy": "2023-05-11T20:12:03.760191Z",
     "iopub.status.idle": "2023-05-11T20:12:04.174410Z",
     "shell.execute_reply": "2023-05-11T20:12:04.173371Z"
    },
    "papermill": {
     "duration": 0.439079,
     "end_time": "2023-05-11T20:12:04.178426",
     "exception": false,
     "start_time": "2023-05-11T20:12:03.739347",
     "status": "completed"
    },
    "tags": []
   },
   "outputs": [
    {
     "name": "stdout",
     "output_type": "stream",
     "text": [
      "+-------+------------+\n",
      "|Mobile |sum(ratings)|\n",
      "+-------+------------+\n",
      "|MI     |28          |\n",
      "|Oppo   |20          |\n",
      "|Samsung|25          |\n",
      "|Vivo   |21          |\n",
      "|Apple  |24          |\n",
      "+-------+------------+\n",
      "\n"
     ]
    }
   ],
   "source": [
    "df.groupBy(\"Mobile\").agg({'ratings':'sum'}).show(5,False)"
   ]
  },
  {
   "cell_type": "markdown",
   "id": "43e11a75",
   "metadata": {
    "papermill": {
     "duration": 0.015888,
     "end_time": "2023-05-11T20:12:04.219358",
     "exception": false,
     "start_time": "2023-05-11T20:12:04.203470",
     "status": "completed"
    },
    "tags": []
   },
   "source": [
    "# UDF"
   ]
  },
  {
   "cell_type": "code",
   "execution_count": null,
   "id": "dcbef2cc",
   "metadata": {
    "papermill": {
     "duration": 0.015743,
     "end_time": "2023-05-11T20:12:04.251266",
     "exception": false,
     "start_time": "2023-05-11T20:12:04.235523",
     "status": "completed"
    },
    "tags": []
   },
   "outputs": [],
   "source": []
  }
 ],
 "metadata": {
  "kernelspec": {
   "display_name": "Python 3",
   "language": "python",
   "name": "python3"
  },
  "language_info": {
   "codemirror_mode": {
    "name": "ipython",
    "version": 3
   },
   "file_extension": ".py",
   "mimetype": "text/x-python",
   "name": "python",
   "nbconvert_exporter": "python",
   "pygments_lexer": "ipython3",
   "version": "3.10.10"
  },
  "papermill": {
   "default_parameters": {},
   "duration": 80.563717,
   "end_time": "2023-05-11T20:12:06.888557",
   "environment_variables": {},
   "exception": null,
   "input_path": "__notebook__.ipynb",
   "output_path": "__notebook__.ipynb",
   "parameters": {},
   "start_time": "2023-05-11T20:10:46.324840",
   "version": "2.4.0"
  }
 },
 "nbformat": 4,
 "nbformat_minor": 5
}
