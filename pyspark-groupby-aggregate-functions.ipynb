{
 "cells": [
  {
   "cell_type": "code",
   "execution_count": 1,
   "id": "d0281e4e",
   "metadata": {
    "execution": {
     "iopub.execute_input": "2023-04-24T15:07:38.468580Z",
     "iopub.status.busy": "2023-04-24T15:07:38.467713Z",
     "iopub.status.idle": "2023-04-24T15:08:35.283428Z",
     "shell.execute_reply": "2023-04-24T15:08:35.281131Z"
    },
    "papermill": {
     "duration": 56.827761,
     "end_time": "2023-04-24T15:08:35.286967",
     "exception": false,
     "start_time": "2023-04-24T15:07:38.459206",
     "status": "completed"
    },
    "tags": []
   },
   "outputs": [
    {
     "name": "stdout",
     "output_type": "stream",
     "text": [
      "Collecting pyspark\r\n",
      "  Downloading pyspark-3.4.0.tar.gz (310.8 MB)\r\n",
      "\u001b[2K     \u001b[90m━━━━━━━━━━━━━━━━━━━━━━━━━━━━━━━━━━━━━━━\u001b[0m \u001b[32m310.8/310.8 MB\u001b[0m \u001b[31m2.4 MB/s\u001b[0m eta \u001b[36m0:00:00\u001b[0m\r\n",
      "\u001b[?25h  Preparing metadata (setup.py) ... \u001b[?25l-\b \bdone\r\n",
      "\u001b[?25hRequirement already satisfied: py4j==0.10.9.7 in /opt/conda/lib/python3.7/site-packages (from pyspark) (0.10.9.7)\r\n",
      "Building wheels for collected packages: pyspark\r\n",
      "  Building wheel for pyspark (setup.py) ... \u001b[?25l-\b \b\\\b \b|\b \b/\b \b-\b \b\\\b \b|\b \b/\b \b-\b \b\\\b \b|\b \b/\b \b-\b \b\\\b \b|\b \b/\b \b-\b \b\\\b \b|\b \bdone\r\n",
      "\u001b[?25h  Created wheel for pyspark: filename=pyspark-3.4.0-py2.py3-none-any.whl size=311317145 sha256=e1e096648c9f4c59736fab43e2dc8c0fcf3d4abcd01ee6a2a3518316f99e40c6\r\n",
      "  Stored in directory: /root/.cache/pip/wheels/81/1b/c2/e41f4bddafe5564d11b2414a62dd7f5d75fcf65b2d7b7805c4\r\n",
      "Successfully built pyspark\r\n",
      "Installing collected packages: pyspark\r\n",
      "Successfully installed pyspark-3.4.0\r\n",
      "\u001b[33mWARNING: Running pip as the 'root' user can result in broken permissions and conflicting behaviour with the system package manager. It is recommended to use a virtual environment instead: https://pip.pypa.io/warnings/venv\u001b[0m\u001b[33m\r\n",
      "\u001b[0m"
     ]
    }
   ],
   "source": [
    "!pip install pyspark"
   ]
  },
  {
   "cell_type": "code",
   "execution_count": 2,
   "id": "a786bb6b",
   "metadata": {
    "_cell_guid": "b1076dfc-b9ad-4769-8c92-a6c4dae69d19",
    "_uuid": "8f2839f25d086af736a60e9eeb907d3b93b6e0e5",
    "execution": {
     "iopub.execute_input": "2023-04-24T15:08:35.321194Z",
     "iopub.status.busy": "2023-04-24T15:08:35.320703Z",
     "iopub.status.idle": "2023-04-24T15:08:35.418452Z",
     "shell.execute_reply": "2023-04-24T15:08:35.416718Z"
    },
    "papermill": {
     "duration": 0.118466,
     "end_time": "2023-04-24T15:08:35.421523",
     "exception": false,
     "start_time": "2023-04-24T15:08:35.303057",
     "status": "completed"
    },
    "tags": []
   },
   "outputs": [],
   "source": [
    "# This Python 3 environment comes with many helpful analytics libraries installed\n",
    "# It is defined by the kaggle/python Docker image: https://github.com/kaggle/docker-python\n",
    "# For example, here's several helpful packages to load\n",
    "\n",
    "import numpy as np # linear algebra\n",
    "import pandas as pd # data processing, CSV file I/O (e.g. pd.read_csv)\n",
    "import pyspark #pyspark library\n",
    "\n",
    "# Input data files are available in the read-only \"../input/\" directory\n",
    "# For example, running this (by clicking run or pressing Shift+Enter) will list all files under the input directory\n",
    "\n",
    "import os\n",
    "for dirname, _, filenames in os.walk('/kaggle/input'):\n",
    "    for filename in filenames:\n",
    "        print(os.path.join(dirname, filename))\n",
    "\n",
    "# You can write up to 20GB to the current directory (/kaggle/working/) that gets preserved as output when you create a version using \"Save & Run All\" \n",
    "# You can also write temporary files to /kaggle/temp/, but they won't be saved outside of the current session"
   ]
  },
  {
   "cell_type": "code",
   "execution_count": 3,
   "id": "9ea08f9a",
   "metadata": {
    "execution": {
     "iopub.execute_input": "2023-04-24T15:08:35.455976Z",
     "iopub.status.busy": "2023-04-24T15:08:35.455461Z",
     "iopub.status.idle": "2023-04-24T15:08:35.461495Z",
     "shell.execute_reply": "2023-04-24T15:08:35.459885Z"
    },
    "papermill": {
     "duration": 0.027421,
     "end_time": "2023-04-24T15:08:35.464296",
     "exception": false,
     "start_time": "2023-04-24T15:08:35.436875",
     "status": "completed"
    },
    "tags": []
   },
   "outputs": [],
   "source": [
    "import pyspark\n",
    "from pyspark.sql import SparkSession"
   ]
  },
  {
   "cell_type": "markdown",
   "id": "6e511f12",
   "metadata": {
    "papermill": {
     "duration": 0.014786,
     "end_time": "2023-04-24T15:08:35.495573",
     "exception": false,
     "start_time": "2023-04-24T15:08:35.480787",
     "status": "completed"
    },
    "tags": []
   },
   "source": [
    "# Creating a SparkSession and giving an appName\n"
   ]
  },
  {
   "cell_type": "code",
   "execution_count": 4,
   "id": "ef2a0d96",
   "metadata": {
    "execution": {
     "iopub.execute_input": "2023-04-24T15:08:35.529033Z",
     "iopub.status.busy": "2023-04-24T15:08:35.528526Z",
     "iopub.status.idle": "2023-04-24T15:08:41.878541Z",
     "shell.execute_reply": "2023-04-24T15:08:41.876690Z"
    },
    "papermill": {
     "duration": 6.372378,
     "end_time": "2023-04-24T15:08:41.883080",
     "exception": false,
     "start_time": "2023-04-24T15:08:35.510702",
     "status": "completed"
    },
    "tags": []
   },
   "outputs": [
    {
     "name": "stderr",
     "output_type": "stream",
     "text": [
      "Setting default log level to \"WARN\".\n",
      "To adjust logging level use sc.setLogLevel(newLevel). For SparkR, use setLogLevel(newLevel).\n",
      "23/04/24 15:08:39 WARN NativeCodeLoader: Unable to load native-hadoop library for your platform... using builtin-java classes where applicable\n",
      "/opt/conda/lib/python3.7/site-packages/pyspark/context.py:317: FutureWarning: Python 3.7 support is deprecated in Spark 3.4.\n",
      "  warnings.warn(\"Python 3.7 support is deprecated in Spark 3.4.\", FutureWarning)\n"
     ]
    }
   ],
   "source": [
    "spark = SparkSession.builder.appName(\"Spark_aggregate\").getOrCreate()\n"
   ]
  },
  {
   "cell_type": "markdown",
   "id": "a32c4546",
   "metadata": {
    "papermill": {
     "duration": 0.015374,
     "end_time": "2023-04-24T15:08:41.914726",
     "exception": false,
     "start_time": "2023-04-24T15:08:41.899352",
     "status": "completed"
    },
    "tags": []
   },
   "source": [
    "# List of Football Players, their nationality and Overall Rating "
   ]
  },
  {
   "cell_type": "code",
   "execution_count": 5,
   "id": "e2565b36",
   "metadata": {
    "execution": {
     "iopub.execute_input": "2023-04-24T15:08:41.951246Z",
     "iopub.status.busy": "2023-04-24T15:08:41.950738Z",
     "iopub.status.idle": "2023-04-24T15:08:41.966920Z",
     "shell.execute_reply": "2023-04-24T15:08:41.965596Z"
    },
    "papermill": {
     "duration": 0.038471,
     "end_time": "2023-04-24T15:08:41.970013",
     "exception": false,
     "start_time": "2023-04-24T15:08:41.931542",
     "status": "completed"
    },
    "tags": []
   },
   "outputs": [],
   "source": [
    "data = {\n",
    "    \"Name\": [\"Cristiano\", \"Messi\", \"Mbappe\",\"Benzema\",\"Neymar\",\"Bruno Fernandez\",\"Pepe\",\"Dybala\",\"Griezman\",\"Vinicius\",\"Marcelo\"],\n",
    "    \"Rating\": [99, 98, 99,96,95,91,92,89,88,94,96],\n",
    "    \"Country\": [\"Portugal\", \"Argentina\", \"France\",\"France\",\"Brazil\",\"Portugal\",\"Portugal\",\"Argentina\",\"France\",\"Brazil\",\"Brazil\"]\n",
    "}\n",
    "df_football = pd.DataFrame(data)"
   ]
  },
  {
   "cell_type": "markdown",
   "id": "bd70dc4e",
   "metadata": {
    "papermill": {
     "duration": 0.016816,
     "end_time": "2023-04-24T15:08:42.002668",
     "exception": false,
     "start_time": "2023-04-24T15:08:41.985852",
     "status": "completed"
    },
    "tags": []
   },
   "source": []
  },
  {
   "cell_type": "code",
   "execution_count": 6,
   "id": "9895deae",
   "metadata": {
    "execution": {
     "iopub.execute_input": "2023-04-24T15:08:42.038510Z",
     "iopub.status.busy": "2023-04-24T15:08:42.038034Z",
     "iopub.status.idle": "2023-04-24T15:08:50.308904Z",
     "shell.execute_reply": "2023-04-24T15:08:50.307351Z"
    },
    "papermill": {
     "duration": 8.292245,
     "end_time": "2023-04-24T15:08:50.312436",
     "exception": false,
     "start_time": "2023-04-24T15:08:42.020191",
     "status": "completed"
    },
    "tags": []
   },
   "outputs": [
    {
     "name": "stdout",
     "output_type": "stream",
     "text": [
      "root\n",
      " |-- name: string (nullable = true)\n",
      " |-- Rating: long (nullable = true)\n",
      " |-- Country: string (nullable = true)\n",
      "\n"
     ]
    },
    {
     "name": "stderr",
     "output_type": "stream",
     "text": [
      "                                                                                \r"
     ]
    },
    {
     "name": "stdout",
     "output_type": "stream",
     "text": [
      "+---------------+------+---------+\n",
      "|name           |Rating|Country  |\n",
      "+---------------+------+---------+\n",
      "|Cristiano      |99    |Portugal |\n",
      "|Messi          |98    |Argentina|\n",
      "|Mbappe         |99    |France   |\n",
      "|Benzema        |96    |France   |\n",
      "|Neymar         |95    |Brazil   |\n",
      "|Bruno Fernandez|91    |Portugal |\n",
      "|Pepe           |92    |Portugal |\n",
      "|Dybala         |89    |Argentina|\n",
      "|Griezman       |88    |France   |\n",
      "|Vinicius       |94    |Brazil   |\n",
      "|Marcelo        |96    |Brazil   |\n",
      "+---------------+------+---------+\n",
      "\n"
     ]
    }
   ],
   "source": [
    "\n",
    "# creating a dataframe\n",
    "df = spark.createDataFrame(data=df_football, schema = [\"name\",\"Rating\",\"Country\"])\n",
    "df.printSchema()\n",
    "df.show(truncate=False)"
   ]
  },
  {
   "cell_type": "markdown",
   "id": "c3d20819",
   "metadata": {
    "papermill": {
     "duration": 0.017485,
     "end_time": "2023-04-24T15:08:50.347882",
     "exception": false,
     "start_time": "2023-04-24T15:08:50.330397",
     "status": "completed"
    },
    "tags": []
   },
   "source": [
    "Casting Rating as Integer"
   ]
  },
  {
   "cell_type": "code",
   "execution_count": 7,
   "id": "6d8b1305",
   "metadata": {
    "execution": {
     "iopub.execute_input": "2023-04-24T15:08:50.385064Z",
     "iopub.status.busy": "2023-04-24T15:08:50.384611Z",
     "iopub.status.idle": "2023-04-24T15:08:50.464029Z",
     "shell.execute_reply": "2023-04-24T15:08:50.462524Z"
    },
    "papermill": {
     "duration": 0.101892,
     "end_time": "2023-04-24T15:08:50.467520",
     "exception": false,
     "start_time": "2023-04-24T15:08:50.365628",
     "status": "completed"
    },
    "tags": []
   },
   "outputs": [],
   "source": [
    "from pyspark.sql.functions import col\n",
    "df = df.withColumn(\"Rating\",col(\"Rating\").cast(\"integer\"))"
   ]
  },
  {
   "cell_type": "code",
   "execution_count": 8,
   "id": "8b59530c",
   "metadata": {
    "execution": {
     "iopub.execute_input": "2023-04-24T15:08:50.504400Z",
     "iopub.status.busy": "2023-04-24T15:08:50.503178Z",
     "iopub.status.idle": "2023-04-24T15:08:50.514974Z",
     "shell.execute_reply": "2023-04-24T15:08:50.512738Z"
    },
    "papermill": {
     "duration": 0.034279,
     "end_time": "2023-04-24T15:08:50.517993",
     "exception": false,
     "start_time": "2023-04-24T15:08:50.483714",
     "status": "completed"
    },
    "tags": []
   },
   "outputs": [
    {
     "name": "stdout",
     "output_type": "stream",
     "text": [
      "root\n",
      " |-- name: string (nullable = true)\n",
      " |-- Rating: integer (nullable = true)\n",
      " |-- Country: string (nullable = true)\n",
      "\n"
     ]
    }
   ],
   "source": [
    "df.printSchema()"
   ]
  },
  {
   "cell_type": "code",
   "execution_count": 9,
   "id": "1fc4a8c6",
   "metadata": {
    "execution": {
     "iopub.execute_input": "2023-04-24T15:08:50.554606Z",
     "iopub.status.busy": "2023-04-24T15:08:50.553944Z",
     "iopub.status.idle": "2023-04-24T15:08:52.439262Z",
     "shell.execute_reply": "2023-04-24T15:08:52.437350Z"
    },
    "papermill": {
     "duration": 1.907076,
     "end_time": "2023-04-24T15:08:52.442696",
     "exception": false,
     "start_time": "2023-04-24T15:08:50.535620",
     "status": "completed"
    },
    "tags": []
   },
   "outputs": [
    {
     "name": "stderr",
     "output_type": "stream",
     "text": [
      "[Stage 2:>                                                          (0 + 4) / 4]\r"
     ]
    },
    {
     "name": "stdout",
     "output_type": "stream",
     "text": [
      "+---------+----------+\n",
      "|  Country|sum_rating|\n",
      "+---------+----------+\n",
      "|   Brazil|       285|\n",
      "|   France|       283|\n",
      "| Portugal|       282|\n",
      "|Argentina|       187|\n",
      "+---------+----------+\n",
      "\n"
     ]
    },
    {
     "name": "stderr",
     "output_type": "stream",
     "text": [
      "                                                                                \r"
     ]
    }
   ],
   "source": [
    "from pyspark.sql.functions import sum, col, desc\n",
    "\n",
    "df.groupBy(\"Country\") \\\n",
    "  .agg(sum(\"Rating\").alias(\"sum_rating\")) \\\n",
    "  .sort(desc(\"sum_rating\")) \\\n",
    "  .show()"
   ]
  },
  {
   "cell_type": "markdown",
   "id": "426cb674",
   "metadata": {
    "papermill": {
     "duration": 0.015907,
     "end_time": "2023-04-24T15:08:52.483957",
     "exception": false,
     "start_time": "2023-04-24T15:08:52.468050",
     "status": "completed"
    },
    "tags": []
   },
   "source": [
    "# Count unique number of players from each country"
   ]
  },
  {
   "cell_type": "code",
   "execution_count": 10,
   "id": "1fddb133",
   "metadata": {
    "execution": {
     "iopub.execute_input": "2023-04-24T15:08:52.521623Z",
     "iopub.status.busy": "2023-04-24T15:08:52.521022Z",
     "iopub.status.idle": "2023-04-24T15:08:52.527716Z",
     "shell.execute_reply": "2023-04-24T15:08:52.526353Z"
    },
    "papermill": {
     "duration": 0.029059,
     "end_time": "2023-04-24T15:08:52.531394",
     "exception": false,
     "start_time": "2023-04-24T15:08:52.502335",
     "status": "completed"
    },
    "tags": []
   },
   "outputs": [],
   "source": [
    "from pyspark.sql.functions import col, countDistinct"
   ]
  },
  {
   "cell_type": "code",
   "execution_count": 11,
   "id": "83e07410",
   "metadata": {
    "execution": {
     "iopub.execute_input": "2023-04-24T15:08:52.585784Z",
     "iopub.status.busy": "2023-04-24T15:08:52.584804Z",
     "iopub.status.idle": "2023-04-24T15:08:53.682605Z",
     "shell.execute_reply": "2023-04-24T15:08:53.680773Z"
    },
    "papermill": {
     "duration": 1.129796,
     "end_time": "2023-04-24T15:08:53.685777",
     "exception": false,
     "start_time": "2023-04-24T15:08:52.555981",
     "status": "completed"
    },
    "tags": []
   },
   "outputs": [
    {
     "name": "stdout",
     "output_type": "stream",
     "text": [
      "+---------+----------------------+\n",
      "|  Country|Distinct_Players_Count|\n",
      "+---------+----------------------+\n",
      "|   France|                     3|\n",
      "|   Brazil|                     3|\n",
      "| Portugal|                     3|\n",
      "|Argentina|                     2|\n",
      "+---------+----------------------+\n",
      "\n"
     ]
    }
   ],
   "source": [
    "df.groupBy(\"Country\").agg(countDistinct(\"Rating\").alias(\"Distinct_Players_Count\")).sort(desc('Distinct_Players_Count')).show()"
   ]
  },
  {
   "cell_type": "code",
   "execution_count": 12,
   "id": "ae0c67b9",
   "metadata": {
    "execution": {
     "iopub.execute_input": "2023-04-24T15:08:53.762384Z",
     "iopub.status.busy": "2023-04-24T15:08:53.761776Z",
     "iopub.status.idle": "2023-04-24T15:08:53.825376Z",
     "shell.execute_reply": "2023-04-24T15:08:53.823993Z"
    },
    "papermill": {
     "duration": 0.112119,
     "end_time": "2023-04-24T15:08:53.830606",
     "exception": false,
     "start_time": "2023-04-24T15:08:53.718487",
     "status": "completed"
    },
    "tags": []
   },
   "outputs": [],
   "source": [
    "df_distinct = df.groupBy(\"Country\").agg(countDistinct(\"Rating\").alias(\"Distinct_Players_Count\"))"
   ]
  },
  {
   "cell_type": "code",
   "execution_count": 13,
   "id": "e48111da",
   "metadata": {
    "execution": {
     "iopub.execute_input": "2023-04-24T15:08:53.887152Z",
     "iopub.status.busy": "2023-04-24T15:08:53.886380Z",
     "iopub.status.idle": "2023-04-24T15:08:54.529520Z",
     "shell.execute_reply": "2023-04-24T15:08:54.527766Z"
    },
    "papermill": {
     "duration": 0.674564,
     "end_time": "2023-04-24T15:08:54.534012",
     "exception": false,
     "start_time": "2023-04-24T15:08:53.859448",
     "status": "completed"
    },
    "tags": []
   },
   "outputs": [
    {
     "name": "stdout",
     "output_type": "stream",
     "text": [
      "+---------+----------------------+\n",
      "|  Country|Distinct_Players_Count|\n",
      "+---------+----------------------+\n",
      "|   France|                     3|\n",
      "|Argentina|                     2|\n",
      "|   Brazil|                     3|\n",
      "| Portugal|                     3|\n",
      "+---------+----------------------+\n",
      "\n"
     ]
    }
   ],
   "source": [
    "df_distinct.show()"
   ]
  },
  {
   "cell_type": "code",
   "execution_count": null,
   "id": "29005da3",
   "metadata": {
    "papermill": {
     "duration": 0.023981,
     "end_time": "2023-04-24T15:08:54.584027",
     "exception": false,
     "start_time": "2023-04-24T15:08:54.560046",
     "status": "completed"
    },
    "tags": []
   },
   "outputs": [],
   "source": []
  }
 ],
 "metadata": {
  "kernelspec": {
   "display_name": "Python 3",
   "language": "python",
   "name": "python3"
  },
  "language_info": {
   "codemirror_mode": {
    "name": "ipython",
    "version": 3
   },
   "file_extension": ".py",
   "mimetype": "text/x-python",
   "name": "python",
   "nbconvert_exporter": "python",
   "pygments_lexer": "ipython3",
   "version": "3.7.12"
  },
  "papermill": {
   "default_parameters": {},
   "duration": 92.384413,
   "end_time": "2023-04-24T15:08:57.235703",
   "environment_variables": {},
   "exception": null,
   "input_path": "__notebook__.ipynb",
   "output_path": "__notebook__.ipynb",
   "parameters": {},
   "start_time": "2023-04-24T15:07:24.851290",
   "version": "2.4.0"
  }
 },
 "nbformat": 4,
 "nbformat_minor": 5
}
