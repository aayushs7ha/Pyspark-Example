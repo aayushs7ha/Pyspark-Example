{
 "cells": [
  {
   "cell_type": "code",
   "execution_count": 1,
   "id": "32b91341",
   "metadata": {
    "execution": {
     "iopub.execute_input": "2023-04-25T05:11:08.468378Z",
     "iopub.status.busy": "2023-04-25T05:11:08.467925Z",
     "iopub.status.idle": "2023-04-25T05:12:04.702135Z",
     "shell.execute_reply": "2023-04-25T05:12:04.699717Z"
    },
    "papermill": {
     "duration": 56.247045,
     "end_time": "2023-04-25T05:12:04.705993",
     "exception": false,
     "start_time": "2023-04-25T05:11:08.458948",
     "status": "completed"
    },
    "tags": []
   },
   "outputs": [
    {
     "name": "stdout",
     "output_type": "stream",
     "text": [
      "Collecting pyspark\r\n",
      "  Downloading pyspark-3.4.0.tar.gz (310.8 MB)\r\n",
      "\u001b[2K     \u001b[90m━━━━━━━━━━━━━━━━━━━━━━━━━━━━━━━━━━━━━━━\u001b[0m \u001b[32m310.8/310.8 MB\u001b[0m \u001b[31m3.0 MB/s\u001b[0m eta \u001b[36m0:00:00\u001b[0m\r\n",
      "\u001b[?25h  Preparing metadata (setup.py) ... \u001b[?25l-\b \bdone\r\n",
      "\u001b[?25hRequirement already satisfied: py4j==0.10.9.7 in /opt/conda/lib/python3.7/site-packages (from pyspark) (0.10.9.7)\r\n",
      "Building wheels for collected packages: pyspark\r\n",
      "  Building wheel for pyspark (setup.py) ... \u001b[?25l-\b \b\\\b \b|\b \b/\b \b-\b \b\\\b \b|\b \b/\b \b-\b \b\\\b \b|\b \b/\b \b-\b \b\\\b \b|\b \bdone\r\n",
      "\u001b[?25h  Created wheel for pyspark: filename=pyspark-3.4.0-py2.py3-none-any.whl size=311317145 sha256=f49737e569c7c0afc86793a15ca47557446a4264d5f304f5af7d7d48a7c57dc0\r\n",
      "  Stored in directory: /root/.cache/pip/wheels/81/1b/c2/e41f4bddafe5564d11b2414a62dd7f5d75fcf65b2d7b7805c4\r\n",
      "Successfully built pyspark\r\n",
      "Installing collected packages: pyspark\r\n",
      "Successfully installed pyspark-3.4.0\r\n",
      "\u001b[33mWARNING: Running pip as the 'root' user can result in broken permissions and conflicting behaviour with the system package manager. It is recommended to use a virtual environment instead: https://pip.pypa.io/warnings/venv\u001b[0m\u001b[33m\r\n",
      "\u001b[0m"
     ]
    }
   ],
   "source": [
    "!pip install pyspark"
   ]
  },
  {
   "cell_type": "code",
   "execution_count": 2,
   "id": "ffd1b730",
   "metadata": {
    "_cell_guid": "b1076dfc-b9ad-4769-8c92-a6c4dae69d19",
    "_uuid": "8f2839f25d086af736a60e9eeb907d3b93b6e0e5",
    "execution": {
     "iopub.execute_input": "2023-04-25T05:12:04.740973Z",
     "iopub.status.busy": "2023-04-25T05:12:04.739539Z",
     "iopub.status.idle": "2023-04-25T05:12:04.881436Z",
     "shell.execute_reply": "2023-04-25T05:12:04.879728Z"
    },
    "papermill": {
     "duration": 0.163841,
     "end_time": "2023-04-25T05:12:04.884718",
     "exception": false,
     "start_time": "2023-04-25T05:12:04.720877",
     "status": "completed"
    },
    "tags": []
   },
   "outputs": [],
   "source": [
    "# This Python 3 environment comes with many helpful analytics libraries installed\n",
    "# It is defined by the kaggle/python Docker image: https://github.com/kaggle/docker-python\n",
    "# For example, here's several helpful packages to load\n",
    "\n",
    "import numpy as np # linear algebra\n",
    "import pandas as pd # data processing, CSV file I/O (e.g. pd.read_csv)\n",
    "import pyspark #pyspark library\n",
    "\n",
    "# Input data files are available in the read-only \"../input/\" directory\n",
    "# For example, running this (by clicking run or pressing Shift+Enter) will list all files under the input directory\n",
    "\n",
    "import os\n",
    "for dirname, _, filenames in os.walk('/kaggle/input'):\n",
    "    for filename in filenames:\n",
    "        print(os.path.join(dirname, filename))\n",
    "\n",
    "# You can write up to 20GB to the current directory (/kaggle/working/) that gets preserved as output when you create a version using \"Save & Run All\" \n",
    "# You can also write temporary files to /kaggle/temp/, but they won't be saved outside of the current session"
   ]
  },
  {
   "cell_type": "code",
   "execution_count": 3,
   "id": "4cf9f063",
   "metadata": {
    "execution": {
     "iopub.execute_input": "2023-04-25T05:12:04.916434Z",
     "iopub.status.busy": "2023-04-25T05:12:04.915916Z",
     "iopub.status.idle": "2023-04-25T05:12:04.921993Z",
     "shell.execute_reply": "2023-04-25T05:12:04.920472Z"
    },
    "papermill": {
     "duration": 0.024907,
     "end_time": "2023-04-25T05:12:04.925018",
     "exception": false,
     "start_time": "2023-04-25T05:12:04.900111",
     "status": "completed"
    },
    "tags": []
   },
   "outputs": [],
   "source": [
    "import pyspark\n",
    "from pyspark.sql import SparkSession"
   ]
  },
  {
   "cell_type": "markdown",
   "id": "013be5b8",
   "metadata": {
    "papermill": {
     "duration": 0.013765,
     "end_time": "2023-04-25T05:12:04.959231",
     "exception": false,
     "start_time": "2023-04-25T05:12:04.945466",
     "status": "completed"
    },
    "tags": []
   },
   "source": [
    "# Creating a SparkSession and giving an appName\n"
   ]
  },
  {
   "cell_type": "code",
   "execution_count": 4,
   "id": "31a70ff3",
   "metadata": {
    "execution": {
     "iopub.execute_input": "2023-04-25T05:12:04.989708Z",
     "iopub.status.busy": "2023-04-25T05:12:04.988911Z",
     "iopub.status.idle": "2023-04-25T05:12:11.386430Z",
     "shell.execute_reply": "2023-04-25T05:12:11.384437Z"
    },
    "papermill": {
     "duration": 6.417259,
     "end_time": "2023-04-25T05:12:11.390607",
     "exception": false,
     "start_time": "2023-04-25T05:12:04.973348",
     "status": "completed"
    },
    "tags": []
   },
   "outputs": [
    {
     "name": "stderr",
     "output_type": "stream",
     "text": [
      "Setting default log level to \"WARN\".\n",
      "To adjust logging level use sc.setLogLevel(newLevel). For SparkR, use setLogLevel(newLevel).\n",
      "23/04/25 05:12:08 WARN NativeCodeLoader: Unable to load native-hadoop library for your platform... using builtin-java classes where applicable\n",
      "/opt/conda/lib/python3.7/site-packages/pyspark/context.py:317: FutureWarning: Python 3.7 support is deprecated in Spark 3.4.\n",
      "  warnings.warn(\"Python 3.7 support is deprecated in Spark 3.4.\", FutureWarning)\n"
     ]
    }
   ],
   "source": [
    "spark = SparkSession.builder.appName(\"Spark_aggregate\").getOrCreate()\n"
   ]
  },
  {
   "cell_type": "markdown",
   "id": "d508869b",
   "metadata": {
    "papermill": {
     "duration": 0.013641,
     "end_time": "2023-04-25T05:12:11.422708",
     "exception": false,
     "start_time": "2023-04-25T05:12:11.409067",
     "status": "completed"
    },
    "tags": []
   },
   "source": [
    "# List of Football Players, their nationality and Overall Rating "
   ]
  },
  {
   "cell_type": "code",
   "execution_count": 5,
   "id": "1d38bf35",
   "metadata": {
    "execution": {
     "iopub.execute_input": "2023-04-25T05:12:11.454140Z",
     "iopub.status.busy": "2023-04-25T05:12:11.453540Z",
     "iopub.status.idle": "2023-04-25T05:12:11.469216Z",
     "shell.execute_reply": "2023-04-25T05:12:11.468047Z"
    },
    "papermill": {
     "duration": 0.035296,
     "end_time": "2023-04-25T05:12:11.471954",
     "exception": false,
     "start_time": "2023-04-25T05:12:11.436658",
     "status": "completed"
    },
    "tags": []
   },
   "outputs": [],
   "source": [
    "data = {\n",
    "    \"Name\": [\"Cristiano\", \"Messi\", \"Mbappe\",\"Benzema\",\"Neymar\",\"Bruno Fernandez\",\"Pepe\",\"Dybala\",\"Griezman\",\"Vinicius\",\"Marcelo\"],\n",
    "    \"Rating\": [99, 98, 99,96,95,91,92,89,88,94,96],\n",
    "    \"Country\": [\"Portugal\", \"Argentina\", \"France\",\"France\",\"Brazil\",\"Portugal\",\"Portugal\",\"Argentina\",\"France\",\"Brazil\",\"Brazil\"]\n",
    "}\n",
    "df_football = pd.DataFrame(data)"
   ]
  },
  {
   "cell_type": "markdown",
   "id": "ac7b6539",
   "metadata": {
    "papermill": {
     "duration": 0.013454,
     "end_time": "2023-04-25T05:12:11.499326",
     "exception": false,
     "start_time": "2023-04-25T05:12:11.485872",
     "status": "completed"
    },
    "tags": []
   },
   "source": []
  },
  {
   "cell_type": "code",
   "execution_count": 6,
   "id": "eb6d9989",
   "metadata": {
    "execution": {
     "iopub.execute_input": "2023-04-25T05:12:11.532159Z",
     "iopub.status.busy": "2023-04-25T05:12:11.530689Z",
     "iopub.status.idle": "2023-04-25T05:12:19.964146Z",
     "shell.execute_reply": "2023-04-25T05:12:19.962578Z"
    },
    "papermill": {
     "duration": 8.454518,
     "end_time": "2023-04-25T05:12:19.968765",
     "exception": false,
     "start_time": "2023-04-25T05:12:11.514247",
     "status": "completed"
    },
    "tags": []
   },
   "outputs": [
    {
     "name": "stdout",
     "output_type": "stream",
     "text": [
      "root\n",
      " |-- name: string (nullable = true)\n",
      " |-- Rating: long (nullable = true)\n",
      " |-- Country: string (nullable = true)\n",
      "\n"
     ]
    },
    {
     "name": "stderr",
     "output_type": "stream",
     "text": [
      "                                                                                \r"
     ]
    },
    {
     "name": "stdout",
     "output_type": "stream",
     "text": [
      "+---------------+------+---------+\n",
      "|name           |Rating|Country  |\n",
      "+---------------+------+---------+\n",
      "|Cristiano      |99    |Portugal |\n",
      "|Messi          |98    |Argentina|\n",
      "|Mbappe         |99    |France   |\n",
      "|Benzema        |96    |France   |\n",
      "|Neymar         |95    |Brazil   |\n",
      "|Bruno Fernandez|91    |Portugal |\n",
      "|Pepe           |92    |Portugal |\n",
      "|Dybala         |89    |Argentina|\n",
      "|Griezman       |88    |France   |\n",
      "|Vinicius       |94    |Brazil   |\n",
      "|Marcelo        |96    |Brazil   |\n",
      "+---------------+------+---------+\n",
      "\n"
     ]
    }
   ],
   "source": [
    "\n",
    "# creating a dataframe\n",
    "df = spark.createDataFrame(data=df_football, schema = [\"name\",\"Rating\",\"Country\"])\n",
    "df.printSchema()\n",
    "df.show(truncate=False)"
   ]
  },
  {
   "cell_type": "markdown",
   "id": "b0fbf452",
   "metadata": {
    "papermill": {
     "duration": 0.014491,
     "end_time": "2023-04-25T05:12:20.000679",
     "exception": false,
     "start_time": "2023-04-25T05:12:19.986188",
     "status": "completed"
    },
    "tags": []
   },
   "source": [
    "Casting Rating as Integer"
   ]
  },
  {
   "cell_type": "code",
   "execution_count": 7,
   "id": "332166b8",
   "metadata": {
    "execution": {
     "iopub.execute_input": "2023-04-25T05:12:20.032393Z",
     "iopub.status.busy": "2023-04-25T05:12:20.031874Z",
     "iopub.status.idle": "2023-04-25T05:12:20.115936Z",
     "shell.execute_reply": "2023-04-25T05:12:20.114419Z"
    },
    "papermill": {
     "duration": 0.103855,
     "end_time": "2023-04-25T05:12:20.119642",
     "exception": false,
     "start_time": "2023-04-25T05:12:20.015787",
     "status": "completed"
    },
    "tags": []
   },
   "outputs": [],
   "source": [
    "from pyspark.sql.functions import col\n",
    "df = df.withColumn(\"Rating\",col(\"Rating\").cast(\"integer\"))"
   ]
  },
  {
   "cell_type": "code",
   "execution_count": 8,
   "id": "69cf0084",
   "metadata": {
    "execution": {
     "iopub.execute_input": "2023-04-25T05:12:20.165241Z",
     "iopub.status.busy": "2023-04-25T05:12:20.164783Z",
     "iopub.status.idle": "2023-04-25T05:12:20.172846Z",
     "shell.execute_reply": "2023-04-25T05:12:20.171270Z"
    },
    "papermill": {
     "duration": 0.036217,
     "end_time": "2023-04-25T05:12:20.176611",
     "exception": false,
     "start_time": "2023-04-25T05:12:20.140394",
     "status": "completed"
    },
    "tags": []
   },
   "outputs": [
    {
     "name": "stdout",
     "output_type": "stream",
     "text": [
      "root\n",
      " |-- name: string (nullable = true)\n",
      " |-- Rating: integer (nullable = true)\n",
      " |-- Country: string (nullable = true)\n",
      "\n"
     ]
    }
   ],
   "source": [
    "df.printSchema()"
   ]
  },
  {
   "cell_type": "code",
   "execution_count": 9,
   "id": "4c48f34c",
   "metadata": {
    "execution": {
     "iopub.execute_input": "2023-04-25T05:12:20.215286Z",
     "iopub.status.busy": "2023-04-25T05:12:20.214093Z",
     "iopub.status.idle": "2023-04-25T05:12:22.175223Z",
     "shell.execute_reply": "2023-04-25T05:12:22.171289Z"
    },
    "papermill": {
     "duration": 1.982827,
     "end_time": "2023-04-25T05:12:22.179695",
     "exception": false,
     "start_time": "2023-04-25T05:12:20.196868",
     "status": "completed"
    },
    "tags": []
   },
   "outputs": [
    {
     "name": "stderr",
     "output_type": "stream",
     "text": [
      "[Stage 2:>                                                          (0 + 4) / 4]\r"
     ]
    },
    {
     "name": "stdout",
     "output_type": "stream",
     "text": [
      "+---------+----------+\n",
      "|  Country|sum_rating|\n",
      "+---------+----------+\n",
      "|   Brazil|       285|\n",
      "|   France|       283|\n",
      "| Portugal|       282|\n",
      "|Argentina|       187|\n",
      "+---------+----------+\n",
      "\n"
     ]
    },
    {
     "name": "stderr",
     "output_type": "stream",
     "text": [
      "                                                                                \r"
     ]
    }
   ],
   "source": [
    "from pyspark.sql.functions import sum, col, desc\n",
    "\n",
    "df.groupBy(\"Country\") \\\n",
    "  .agg(sum(\"Rating\").alias(\"sum_rating\")) \\\n",
    "  .sort(desc(\"sum_rating\")) \\\n",
    "  .show()"
   ]
  },
  {
   "cell_type": "markdown",
   "id": "2ab4ad16",
   "metadata": {
    "papermill": {
     "duration": 0.021626,
     "end_time": "2023-04-25T05:12:22.224478",
     "exception": false,
     "start_time": "2023-04-25T05:12:22.202852",
     "status": "completed"
    },
    "tags": []
   },
   "source": [
    "# Count unique number of players from each country"
   ]
  },
  {
   "cell_type": "code",
   "execution_count": 10,
   "id": "bc2b58c2",
   "metadata": {
    "execution": {
     "iopub.execute_input": "2023-04-25T05:12:22.270367Z",
     "iopub.status.busy": "2023-04-25T05:12:22.269773Z",
     "iopub.status.idle": "2023-04-25T05:12:22.276567Z",
     "shell.execute_reply": "2023-04-25T05:12:22.275156Z"
    },
    "papermill": {
     "duration": 0.033811,
     "end_time": "2023-04-25T05:12:22.279730",
     "exception": false,
     "start_time": "2023-04-25T05:12:22.245919",
     "status": "completed"
    },
    "tags": []
   },
   "outputs": [],
   "source": [
    "from pyspark.sql.functions import col, countDistinct"
   ]
  },
  {
   "cell_type": "code",
   "execution_count": 11,
   "id": "319f3c25",
   "metadata": {
    "execution": {
     "iopub.execute_input": "2023-04-25T05:12:22.326609Z",
     "iopub.status.busy": "2023-04-25T05:12:22.325429Z",
     "iopub.status.idle": "2023-04-25T05:12:23.401486Z",
     "shell.execute_reply": "2023-04-25T05:12:23.399873Z"
    },
    "papermill": {
     "duration": 1.104172,
     "end_time": "2023-04-25T05:12:23.405401",
     "exception": false,
     "start_time": "2023-04-25T05:12:22.301229",
     "status": "completed"
    },
    "tags": []
   },
   "outputs": [
    {
     "name": "stdout",
     "output_type": "stream",
     "text": [
      "+---------+----------------------+\n",
      "|  Country|Distinct_Players_Count|\n",
      "+---------+----------------------+\n",
      "|   France|                     3|\n",
      "|   Brazil|                     3|\n",
      "| Portugal|                     3|\n",
      "|Argentina|                     2|\n",
      "+---------+----------------------+\n",
      "\n"
     ]
    }
   ],
   "source": [
    "df.groupBy(\"Country\").agg(countDistinct(\"Rating\").alias(\"Distinct_Players_Count\")).sort(desc('Distinct_Players_Count')).show()"
   ]
  },
  {
   "cell_type": "code",
   "execution_count": 12,
   "id": "ed9bc0d5",
   "metadata": {
    "execution": {
     "iopub.execute_input": "2023-04-25T05:12:23.438842Z",
     "iopub.status.busy": "2023-04-25T05:12:23.438236Z",
     "iopub.status.idle": "2023-04-25T05:12:23.496596Z",
     "shell.execute_reply": "2023-04-25T05:12:23.495261Z"
    },
    "papermill": {
     "duration": 0.080114,
     "end_time": "2023-04-25T05:12:23.501141",
     "exception": false,
     "start_time": "2023-04-25T05:12:23.421027",
     "status": "completed"
    },
    "tags": []
   },
   "outputs": [],
   "source": [
    "df_distinct = df.groupBy(\"Country\").agg(countDistinct(\"Rating\").alias(\"Distinct_Players_Count\"))"
   ]
  },
  {
   "cell_type": "code",
   "execution_count": 13,
   "id": "297ffcd3",
   "metadata": {
    "execution": {
     "iopub.execute_input": "2023-04-25T05:12:23.547291Z",
     "iopub.status.busy": "2023-04-25T05:12:23.546751Z",
     "iopub.status.idle": "2023-04-25T05:12:24.227666Z",
     "shell.execute_reply": "2023-04-25T05:12:24.226144Z"
    },
    "papermill": {
     "duration": 0.708312,
     "end_time": "2023-04-25T05:12:24.231842",
     "exception": false,
     "start_time": "2023-04-25T05:12:23.523530",
     "status": "completed"
    },
    "tags": []
   },
   "outputs": [
    {
     "name": "stdout",
     "output_type": "stream",
     "text": [
      "+---------+----------------------+\n",
      "|  Country|Distinct_Players_Count|\n",
      "+---------+----------------------+\n",
      "|   France|                     3|\n",
      "|Argentina|                     2|\n",
      "|   Brazil|                     3|\n",
      "| Portugal|                     3|\n",
      "+---------+----------------------+\n",
      "\n"
     ]
    }
   ],
   "source": [
    "df_distinct.show()"
   ]
  },
  {
   "cell_type": "code",
   "execution_count": 14,
   "id": "e86edd3d",
   "metadata": {
    "execution": {
     "iopub.execute_input": "2023-04-25T05:12:24.279831Z",
     "iopub.status.busy": "2023-04-25T05:12:24.278294Z",
     "iopub.status.idle": "2023-04-25T05:12:25.139952Z",
     "shell.execute_reply": "2023-04-25T05:12:25.138205Z"
    },
    "papermill": {
     "duration": 0.891333,
     "end_time": "2023-04-25T05:12:25.145625",
     "exception": false,
     "start_time": "2023-04-25T05:12:24.254292",
     "status": "completed"
    },
    "tags": []
   },
   "outputs": [
    {
     "name": "stdout",
     "output_type": "stream",
     "text": [
      "+---------+-----------------+\n",
      "|  Country|      avg(Rating)|\n",
      "+---------+-----------------+\n",
      "|Argentina|             93.5|\n",
      "| Portugal|             94.0|\n",
      "|   France|94.33333333333333|\n",
      "|   Brazil|             95.0|\n",
      "+---------+-----------------+\n",
      "\n"
     ]
    }
   ],
   "source": [
    "df.groupBy('Country').avg(\"Rating\").alias(\"Average ratings by country\").show()"
   ]
  },
  {
   "cell_type": "code",
   "execution_count": 15,
   "id": "82af757c",
   "metadata": {
    "execution": {
     "iopub.execute_input": "2023-04-25T05:12:25.212145Z",
     "iopub.status.busy": "2023-04-25T05:12:25.211523Z",
     "iopub.status.idle": "2023-04-25T05:12:25.725493Z",
     "shell.execute_reply": "2023-04-25T05:12:25.723465Z"
    },
    "papermill": {
     "duration": 0.552314,
     "end_time": "2023-04-25T05:12:25.734883",
     "exception": false,
     "start_time": "2023-04-25T05:12:25.182569",
     "status": "completed"
    },
    "tags": []
   },
   "outputs": [
    {
     "name": "stdout",
     "output_type": "stream",
     "text": [
      "+-----------+\n",
      "|sum(Rating)|\n",
      "+-----------+\n",
      "|       1037|\n",
      "+-----------+\n",
      "\n"
     ]
    }
   ],
   "source": [
    "df.agg({'Rating':'Sum'}).show()"
   ]
  },
  {
   "cell_type": "code",
   "execution_count": null,
   "id": "151020b5",
   "metadata": {
    "papermill": {
     "duration": 0.026451,
     "end_time": "2023-04-25T05:12:25.794738",
     "exception": false,
     "start_time": "2023-04-25T05:12:25.768287",
     "status": "completed"
    },
    "tags": []
   },
   "outputs": [],
   "source": []
  }
 ],
 "metadata": {
  "kernelspec": {
   "display_name": "Python 3",
   "language": "python",
   "name": "python3"
  },
  "language_info": {
   "codemirror_mode": {
    "name": "ipython",
    "version": 3
   },
   "file_extension": ".py",
   "mimetype": "text/x-python",
   "name": "python",
   "nbconvert_exporter": "python",
   "pygments_lexer": "ipython3",
   "version": "3.7.12"
  },
  "papermill": {
   "default_parameters": {},
   "duration": 93.161078,
   "end_time": "2023-04-25T05:12:28.441889",
   "environment_variables": {},
   "exception": null,
   "input_path": "__notebook__.ipynb",
   "output_path": "__notebook__.ipynb",
   "parameters": {},
   "start_time": "2023-04-25T05:10:55.280811",
   "version": "2.4.0"
  }
 },
 "nbformat": 4,
 "nbformat_minor": 5
}
