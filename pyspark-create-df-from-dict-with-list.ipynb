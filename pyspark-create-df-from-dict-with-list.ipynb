{
 "cells": [
  {
   "cell_type": "code",
   "execution_count": 1,
   "id": "2d223374",
   "metadata": {
    "_cell_guid": "b1076dfc-b9ad-4769-8c92-a6c4dae69d19",
    "_uuid": "8f2839f25d086af736a60e9eeb907d3b93b6e0e5",
    "execution": {
     "iopub.execute_input": "2023-05-23T09:43:23.412050Z",
     "iopub.status.busy": "2023-05-23T09:43:23.411565Z",
     "iopub.status.idle": "2023-05-23T09:43:23.420175Z",
     "shell.execute_reply": "2023-05-23T09:43:23.419402Z"
    },
    "papermill": {
     "duration": 0.016065,
     "end_time": "2023-05-23T09:43:23.421928",
     "exception": false,
     "start_time": "2023-05-23T09:43:23.405863",
     "status": "completed"
    },
    "tags": []
   },
   "outputs": [],
   "source": [
    "# This Python 3 environment comes with many helpful analytics libraries installed\n",
    "# It is defined by the kaggle/python Docker image: https://github.com/kaggle/docker-python\n",
    "# For example, here's several helpful packages to load\n",
    "\n",
    "import numpy as np # linear algebra\n",
    "import pandas as pd # data processing, CSV file I/O (e.g. pd.read_csv)\n",
    "\n",
    "# Input data files are available in the read-only \"../input/\" directory\n",
    "# For example, running this (by clicking run or pressing Shift+Enter) will list all files under the input directory\n",
    "\n",
    "import os\n",
    "for dirname, _, filenames in os.walk('/kaggle/input'):\n",
    "    for filename in filenames:\n",
    "        print(os.path.join(dirname, filename))\n",
    "\n",
    "# You can write up to 20GB to the current directory (/kaggle/working/) that gets preserved as output when you create a version using \"Save & Run All\" \n",
    "# You can also write temporary files to /kaggle/temp/, but they won't be saved outside of the current session"
   ]
  },
  {
   "cell_type": "markdown",
   "id": "51ca9a0b",
   "metadata": {
    "papermill": {
     "duration": 0.003515,
     "end_time": "2023-05-23T09:43:23.429724",
     "exception": false,
     "start_time": "2023-05-23T09:43:23.426209",
     "status": "completed"
    },
    "tags": []
   },
   "source": [
    "# Create DataFrame from dictionary"
   ]
  },
  {
   "cell_type": "code",
   "execution_count": 2,
   "id": "5f724c4e",
   "metadata": {
    "execution": {
     "iopub.execute_input": "2023-05-23T09:43:23.438022Z",
     "iopub.status.busy": "2023-05-23T09:43:23.437789Z",
     "iopub.status.idle": "2023-05-23T09:44:01.479388Z",
     "shell.execute_reply": "2023-05-23T09:44:01.478764Z"
    },
    "papermill": {
     "duration": 38.048083,
     "end_time": "2023-05-23T09:44:01.481484",
     "exception": false,
     "start_time": "2023-05-23T09:43:23.433401",
     "status": "completed"
    },
    "tags": []
   },
   "outputs": [
    {
     "name": "stdout",
     "output_type": "stream",
     "text": [
      "Collecting pyspark\r\n",
      "  Downloading pyspark-3.4.0.tar.gz (310.8 MB)\r\n",
      "\u001b[2K     \u001b[90m━━━━━━━━━━━━━━━━━━━━━━━━━━━━━━━━━━━━━━━\u001b[0m \u001b[32m310.8/310.8 MB\u001b[0m \u001b[31m4.8 MB/s\u001b[0m eta \u001b[36m0:00:00\u001b[0m\r\n",
      "\u001b[?25h  Preparing metadata (setup.py) ... \u001b[?25l-\b \b\\\b \bdone\r\n",
      "\u001b[?25hRequirement already satisfied: py4j==0.10.9.7 in /opt/conda/lib/python3.10/site-packages (from pyspark) (0.10.9.7)\r\n",
      "Building wheels for collected packages: pyspark\r\n",
      "  Building wheel for pyspark (setup.py) ... \u001b[?25l-\b \b\\\b \b|\b \b/\b \b-\b \b\\\b \b|\b \b/\b \b-\b \bdone\r\n",
      "\u001b[?25h  Created wheel for pyspark: filename=pyspark-3.4.0-py2.py3-none-any.whl size=311317146 sha256=a00e8ef68b50d62652296d1e277e2195787a7f7e7d7264f4660250eb52c51a0e\r\n",
      "  Stored in directory: /root/.cache/pip/wheels/7b/1b/4b/3363a1d04368e7ff0d408e57ff57966fcdf00583774e761327\r\n",
      "Successfully built pyspark\r\n",
      "Installing collected packages: pyspark\r\n",
      "Successfully installed pyspark-3.4.0\r\n",
      "\u001b[33mWARNING: Running pip as the 'root' user can result in broken permissions and conflicting behaviour with the system package manager. It is recommended to use a virtual environment instead: https://pip.pypa.io/warnings/venv\u001b[0m\u001b[33m\r\n",
      "\u001b[0m"
     ]
    }
   ],
   "source": [
    "# import necessary libraries\n",
    "!pip install pyspark"
   ]
  },
  {
   "cell_type": "code",
   "execution_count": 3,
   "id": "45629687",
   "metadata": {
    "execution": {
     "iopub.execute_input": "2023-05-23T09:44:01.501230Z",
     "iopub.status.busy": "2023-05-23T09:44:01.500883Z",
     "iopub.status.idle": "2023-05-23T09:44:01.560876Z",
     "shell.execute_reply": "2023-05-23T09:44:01.560112Z"
    },
    "papermill": {
     "duration": 0.071972,
     "end_time": "2023-05-23T09:44:01.562718",
     "exception": false,
     "start_time": "2023-05-23T09:44:01.490746",
     "status": "completed"
    },
    "tags": []
   },
   "outputs": [],
   "source": [
    "from pyspark.sql.window import Window\n",
    "from pyspark.sql.functions import lit, col, explode, row_number, concat \n",
    "from pyspark.sql import SparkSession"
   ]
  },
  {
   "cell_type": "code",
   "execution_count": 4,
   "id": "e8089afb",
   "metadata": {
    "execution": {
     "iopub.execute_input": "2023-05-23T09:44:01.581465Z",
     "iopub.status.busy": "2023-05-23T09:44:01.581223Z",
     "iopub.status.idle": "2023-05-23T09:44:05.530388Z",
     "shell.execute_reply": "2023-05-23T09:44:05.529686Z"
    },
    "papermill": {
     "duration": 3.96097,
     "end_time": "2023-05-23T09:44:05.532622",
     "exception": false,
     "start_time": "2023-05-23T09:44:01.571652",
     "status": "completed"
    },
    "tags": []
   },
   "outputs": [
    {
     "name": "stderr",
     "output_type": "stream",
     "text": [
      "Setting default log level to \"WARN\".\n",
      "To adjust logging level use sc.setLogLevel(newLevel). For SparkR, use setLogLevel(newLevel).\n",
      "23/05/23 09:44:04 WARN NativeCodeLoader: Unable to load native-hadoop library for your platform... using builtin-java classes where applicable\n"
     ]
    }
   ],
   "source": [
    "spark = SparkSession.builder.appName(\"dataFrame_from_dictionary\").getOrCreate()"
   ]
  },
  {
   "cell_type": "markdown",
   "id": "4b6fe5b5",
   "metadata": {
    "papermill": {
     "duration": 0.008656,
     "end_time": "2023-05-23T09:44:05.550580",
     "exception": false,
     "start_time": "2023-05-23T09:44:05.541924",
     "status": "completed"
    },
    "tags": []
   },
   "source": [
    "# Create a sample dictionary"
   ]
  },
  {
   "cell_type": "code",
   "execution_count": 5,
   "id": "036882ab",
   "metadata": {
    "execution": {
     "iopub.execute_input": "2023-05-23T09:44:05.569610Z",
     "iopub.status.busy": "2023-05-23T09:44:05.569294Z",
     "iopub.status.idle": "2023-05-23T09:44:05.573281Z",
     "shell.execute_reply": "2023-05-23T09:44:05.572483Z"
    },
    "papermill": {
     "duration": 0.015414,
     "end_time": "2023-05-23T09:44:05.574836",
     "exception": false,
     "start_time": "2023-05-23T09:44:05.559422",
     "status": "completed"
    },
    "tags": []
   },
   "outputs": [],
   "source": [
    "my_dict = { \n",
    "    'a' : ['Honda','Volkswagen'],\n",
    "    'b' : ['Audi','BMW'],\n",
    "    'c' : ['Tata','Jaguar']\n",
    "}"
   ]
  },
  {
   "cell_type": "code",
   "execution_count": 6,
   "id": "ffd7742a",
   "metadata": {
    "execution": {
     "iopub.execute_input": "2023-05-23T09:44:05.593580Z",
     "iopub.status.busy": "2023-05-23T09:44:05.593107Z",
     "iopub.status.idle": "2023-05-23T09:44:05.599359Z",
     "shell.execute_reply": "2023-05-23T09:44:05.598660Z"
    },
    "papermill": {
     "duration": 0.017404,
     "end_time": "2023-05-23T09:44:05.600891",
     "exception": false,
     "start_time": "2023-05-23T09:44:05.583487",
     "status": "completed"
    },
    "tags": []
   },
   "outputs": [
    {
     "data": {
      "text/plain": [
       "{'a': ['Honda', 'Volkswagen'], 'b': ['Audi', 'BMW'], 'c': ['Tata', 'Jaguar']}"
      ]
     },
     "execution_count": 6,
     "metadata": {},
     "output_type": "execute_result"
    }
   ],
   "source": [
    "my_dict"
   ]
  },
  {
   "cell_type": "code",
   "execution_count": 7,
   "id": "08dc2f10",
   "metadata": {
    "execution": {
     "iopub.execute_input": "2023-05-23T09:44:05.619771Z",
     "iopub.status.busy": "2023-05-23T09:44:05.619164Z",
     "iopub.status.idle": "2023-05-23T09:44:05.623001Z",
     "shell.execute_reply": "2023-05-23T09:44:05.622511Z"
    },
    "papermill": {
     "duration": 0.01492,
     "end_time": "2023-05-23T09:44:05.624513",
     "exception": false,
     "start_time": "2023-05-23T09:44:05.609593",
     "status": "completed"
    },
    "tags": []
   },
   "outputs": [],
   "source": [
    "new_dict = {\n",
    "    'Name': ['Aayush','Purbi','Avinash','Neelu'],\n",
    "    'Age': [10,7,14,14],\n",
    "    'Height' : [6.2,5.2,5.10,5.2]\n",
    "}"
   ]
  },
  {
   "cell_type": "code",
   "execution_count": 8,
   "id": "6f761049",
   "metadata": {
    "execution": {
     "iopub.execute_input": "2023-05-23T09:44:05.642873Z",
     "iopub.status.busy": "2023-05-23T09:44:05.642651Z",
     "iopub.status.idle": "2023-05-23T09:44:05.647236Z",
     "shell.execute_reply": "2023-05-23T09:44:05.646550Z"
    },
    "papermill": {
     "duration": 0.015536,
     "end_time": "2023-05-23T09:44:05.648739",
     "exception": false,
     "start_time": "2023-05-23T09:44:05.633203",
     "status": "completed"
    },
    "tags": []
   },
   "outputs": [
    {
     "data": {
      "text/plain": [
       "{'Name': ['Aayush', 'Purbi', 'Avinash', 'Neelu'],\n",
       " 'Age': [10, 7, 14, 14],\n",
       " 'Height': [6.2, 5.2, 5.1, 5.2]}"
      ]
     },
     "execution_count": 8,
     "metadata": {},
     "output_type": "execute_result"
    }
   ],
   "source": [
    "new_dict"
   ]
  },
  {
   "cell_type": "code",
   "execution_count": 9,
   "id": "f7fca778",
   "metadata": {
    "execution": {
     "iopub.execute_input": "2023-05-23T09:44:05.667764Z",
     "iopub.status.busy": "2023-05-23T09:44:05.667035Z",
     "iopub.status.idle": "2023-05-23T09:44:08.502075Z",
     "shell.execute_reply": "2023-05-23T09:44:08.501386Z"
    },
    "papermill": {
     "duration": 2.846414,
     "end_time": "2023-05-23T09:44:08.504101",
     "exception": false,
     "start_time": "2023-05-23T09:44:05.657687",
     "status": "completed"
    },
    "tags": []
   },
   "outputs": [],
   "source": [
    "df = spark.createDataFrame(my_dict.items(),\"CarBrandId STRING, Brand ARRAY <STRING>\")"
   ]
  },
  {
   "cell_type": "code",
   "execution_count": 10,
   "id": "82ed5644",
   "metadata": {
    "execution": {
     "iopub.execute_input": "2023-05-23T09:44:08.523900Z",
     "iopub.status.busy": "2023-05-23T09:44:08.523562Z",
     "iopub.status.idle": "2023-05-23T09:44:08.527304Z",
     "shell.execute_reply": "2023-05-23T09:44:08.526768Z"
    },
    "papermill": {
     "duration": 0.015596,
     "end_time": "2023-05-23T09:44:08.529143",
     "exception": false,
     "start_time": "2023-05-23T09:44:08.513547",
     "status": "completed"
    },
    "tags": []
   },
   "outputs": [],
   "source": [
    "from pyspark.sql.functions import *"
   ]
  },
  {
   "cell_type": "markdown",
   "id": "85838a0e",
   "metadata": {
    "papermill": {
     "duration": 0.008709,
     "end_time": "2023-05-23T09:44:08.547481",
     "exception": false,
     "start_time": "2023-05-23T09:44:08.538772",
     "status": "completed"
    },
    "tags": []
   },
   "source": [
    "# Explode each value "
   ]
  },
  {
   "cell_type": "code",
   "execution_count": 11,
   "id": "7f4933fc",
   "metadata": {
    "execution": {
     "iopub.execute_input": "2023-05-23T09:44:08.566526Z",
     "iopub.status.busy": "2023-05-23T09:44:08.566264Z",
     "iopub.status.idle": "2023-05-23T09:44:08.654730Z",
     "shell.execute_reply": "2023-05-23T09:44:08.653866Z"
    },
    "papermill": {
     "duration": 0.100436,
     "end_time": "2023-05-23T09:44:08.657046",
     "exception": false,
     "start_time": "2023-05-23T09:44:08.556610",
     "status": "completed"
    },
    "tags": []
   },
   "outputs": [],
   "source": [
    "df = df.withColumn(\"Brand\",explode(\"Brand\"))"
   ]
  },
  {
   "cell_type": "code",
   "execution_count": 12,
   "id": "2fc09480",
   "metadata": {
    "execution": {
     "iopub.execute_input": "2023-05-23T09:44:08.685094Z",
     "iopub.status.busy": "2023-05-23T09:44:08.684740Z",
     "iopub.status.idle": "2023-05-23T09:44:11.293991Z",
     "shell.execute_reply": "2023-05-23T09:44:11.293139Z"
    },
    "papermill": {
     "duration": 2.62553,
     "end_time": "2023-05-23T09:44:11.296168",
     "exception": false,
     "start_time": "2023-05-23T09:44:08.670638",
     "status": "completed"
    },
    "tags": []
   },
   "outputs": [
    {
     "name": "stderr",
     "output_type": "stream",
     "text": [
      "                                                                                \r"
     ]
    },
    {
     "name": "stdout",
     "output_type": "stream",
     "text": [
      "+----------+----------+\n",
      "|CarBrandId|     Brand|\n",
      "+----------+----------+\n",
      "|         a|     Honda|\n",
      "|         a|Volkswagen|\n",
      "|         b|      Audi|\n",
      "|         b|       BMW|\n",
      "|         c|      Tata|\n",
      "|         c|    Jaguar|\n",
      "+----------+----------+\n",
      "\n"
     ]
    }
   ],
   "source": [
    "df.show()"
   ]
  },
  {
   "cell_type": "code",
   "execution_count": 13,
   "id": "ddc835ae",
   "metadata": {
    "execution": {
     "iopub.execute_input": "2023-05-23T09:44:11.326063Z",
     "iopub.status.busy": "2023-05-23T09:44:11.325790Z",
     "iopub.status.idle": "2023-05-23T09:44:11.341042Z",
     "shell.execute_reply": "2023-05-23T09:44:11.340310Z"
    },
    "papermill": {
     "duration": 0.032255,
     "end_time": "2023-05-23T09:44:11.343290",
     "exception": false,
     "start_time": "2023-05-23T09:44:11.311035",
     "status": "completed"
    },
    "tags": []
   },
   "outputs": [],
   "source": [
    "# Create Unique Identifier \n",
    "id_spec = Window.orderBy(col('CarBrandId'))"
   ]
  },
  {
   "cell_type": "code",
   "execution_count": 14,
   "id": "cf839468",
   "metadata": {
    "execution": {
     "iopub.execute_input": "2023-05-23T09:44:11.367399Z",
     "iopub.status.busy": "2023-05-23T09:44:11.367132Z",
     "iopub.status.idle": "2023-05-23T09:44:11.426675Z",
     "shell.execute_reply": "2023-05-23T09:44:11.426013Z"
    },
    "papermill": {
     "duration": 0.072919,
     "end_time": "2023-05-23T09:44:11.429026",
     "exception": false,
     "start_time": "2023-05-23T09:44:11.356107",
     "status": "completed"
    },
    "tags": []
   },
   "outputs": [],
   "source": [
    "df = df.withColumn(\"CarBrandId\",concat(lit(\"s\"),row_number().over(id_spec)))"
   ]
  },
  {
   "cell_type": "code",
   "execution_count": 15,
   "id": "d9a5614f",
   "metadata": {
    "execution": {
     "iopub.execute_input": "2023-05-23T09:44:11.456159Z",
     "iopub.status.busy": "2023-05-23T09:44:11.455837Z",
     "iopub.status.idle": "2023-05-23T09:44:12.458476Z",
     "shell.execute_reply": "2023-05-23T09:44:12.457631Z"
    },
    "papermill": {
     "duration": 1.017914,
     "end_time": "2023-05-23T09:44:12.460346",
     "exception": false,
     "start_time": "2023-05-23T09:44:11.442432",
     "status": "completed"
    },
    "tags": []
   },
   "outputs": [
    {
     "name": "stderr",
     "output_type": "stream",
     "text": [
      "23/05/23 09:44:11 WARN WindowExec: No Partition Defined for Window operation! Moving all data to a single partition, this can cause serious performance degradation.\n",
      "23/05/23 09:44:11 WARN WindowExec: No Partition Defined for Window operation! Moving all data to a single partition, this can cause serious performance degradation.\n",
      "23/05/23 09:44:11 WARN WindowExec: No Partition Defined for Window operation! Moving all data to a single partition, this can cause serious performance degradation.\n"
     ]
    },
    {
     "name": "stdout",
     "output_type": "stream",
     "text": [
      "+----------+----------+\n",
      "|CarBrandId|     Brand|\n",
      "+----------+----------+\n",
      "|        s1|     Honda|\n",
      "|        s2|Volkswagen|\n",
      "|        s3|      Audi|\n",
      "|        s4|       BMW|\n",
      "|        s5|      Tata|\n",
      "|        s6|    Jaguar|\n",
      "+----------+----------+\n",
      "\n"
     ]
    }
   ],
   "source": [
    "df.show()"
   ]
  },
  {
   "cell_type": "code",
   "execution_count": null,
   "id": "29b79ad6",
   "metadata": {
    "papermill": {
     "duration": 0.012485,
     "end_time": "2023-05-23T09:44:12.485934",
     "exception": false,
     "start_time": "2023-05-23T09:44:12.473449",
     "status": "completed"
    },
    "tags": []
   },
   "outputs": [],
   "source": []
  }
 ],
 "metadata": {
  "kernelspec": {
   "display_name": "Python 3",
   "language": "python",
   "name": "python3"
  },
  "language_info": {
   "codemirror_mode": {
    "name": "ipython",
    "version": 3
   },
   "file_extension": ".py",
   "mimetype": "text/x-python",
   "name": "python",
   "nbconvert_exporter": "python",
   "pygments_lexer": "ipython3",
   "version": "3.10.10"
  },
  "papermill": {
   "default_parameters": {},
   "duration": 59.225342,
   "end_time": "2023-05-23T09:44:15.120885",
   "environment_variables": {},
   "exception": null,
   "input_path": "__notebook__.ipynb",
   "output_path": "__notebook__.ipynb",
   "parameters": {},
   "start_time": "2023-05-23T09:43:15.895543",
   "version": "2.4.0"
  }
 },
 "nbformat": 4,
 "nbformat_minor": 5
}
